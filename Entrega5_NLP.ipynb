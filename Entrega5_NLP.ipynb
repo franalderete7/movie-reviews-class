{
 "cells": [
  {
   "cell_type": "markdown",
   "metadata": {},
   "source": [
    "# Proyecto 5: Análisis de sentimiento en reviews de películas"
   ]
  },
  {
   "cell_type": "markdown",
   "metadata": {},
   "source": [
    "En este proyecto vamos a trabajar con un dataset de reviews de películas. El objectivo es clasificar cada comentario de acuerdo al sentimiento positivo o negativo hacia la película. Para hacerlo, vamos a trabajar con procesamiento de texto para luego aplicar las diferentes técnicas predictivas que hemos visto."
   ]
  },
  {
   "cell_type": "markdown",
   "metadata": {},
   "source": [
    "## Dataset"
   ]
  },
  {
   "cell_type": "markdown",
   "metadata": {},
   "source": [
    "En primer lugar, carguemos las reviews para comenzar a procesarlas. En este caso no tenemos un archivo `.csv`, sino un directorio estructurado de la siguiente forma: \n",
    "```\n",
    "movie_reviews/\n",
    "  neg/\n",
    "  pos/\n",
    "```\n",
    "`sklearn` nos provee de la función `load_files` que permite recorrer este tipo de estructuras. "
   ]
  },
  {
   "cell_type": "code",
   "execution_count": 2,
   "metadata": {},
   "outputs": [],
   "source": [
    "import warnings\n",
    "warnings.filterwarnings(\"ignore\")\n",
    "import sklearn\n",
    "from sklearn.datasets import load_files\n",
    "moviedir = r'/Users/iscoalderete/Downloads/entrega+5/dataset/movie_reviews'\n",
    "movie_reviews = load_files(moviedir, shuffle=True, encoding='utf-8')"
   ]
  },
  {
   "cell_type": "markdown",
   "metadata": {},
   "source": [
    "Ahora en la variable `movies` tendremos guardadas las reviews (`movies.data`) y su sentimiento (`movies.target`).\n",
    "Veamos cuantas reviews tenemos en total:"
   ]
  },
  {
   "cell_type": "code",
   "execution_count": 3,
   "metadata": {},
   "outputs": [
    {
     "name": "stdout",
     "output_type": "stream",
     "text": [
      "Tenemos 2000 reviews, con clases ['neg', 'pos'],\n"
     ]
    }
   ],
   "source": [
    "print(\"Tenemos {} reviews, con clases {},\".format(len(movie_reviews.data), movie_reviews.target_names))"
   ]
  },
  {
   "cell_type": "markdown",
   "metadata": {},
   "source": [
    "Analizando la estructura de los documentos, veamos como luce una muestra de `movies.data`:"
   ]
  },
  {
   "cell_type": "code",
   "execution_count": 4,
   "metadata": {},
   "outputs": [
    {
     "data": {
      "text/plain": [
       "'we could paraphrase michelle pfieffer\\'s character in dangerous minds and say that beyond rangoon starts with an \" a . \" \\nthat\\'s fair enough . \\nall movies , like all school children , should be given the benefit of the doubt . \\nthe chance to succeed . \\nafter all , we like to think that the right combination of talent and effort can do wonders . \\nmountains can be moved , and good movies can be made . \\nyeah right . \\nchildren fail , as do films . \\nas does director john boorman\\'s latest . \\nthe succes'"
      ]
     },
     "execution_count": 4,
     "metadata": {},
     "output_type": "execute_result"
    }
   ],
   "source": [
    "movie_reviews.data[3][:500]"
   ]
  },
  {
   "cell_type": "markdown",
   "metadata": {},
   "source": [
    "Y ahora, con la propiedad `target` podemos ver la categoría asociada a esta review"
   ]
  },
  {
   "cell_type": "code",
   "execution_count": 5,
   "metadata": {},
   "outputs": [
    {
     "data": {
      "text/plain": [
       "0"
      ]
     },
     "execution_count": 5,
     "metadata": {},
     "output_type": "execute_result"
    }
   ],
   "source": [
    "movie_reviews.target[0]"
   ]
  },
  {
   "cell_type": "markdown",
   "metadata": {},
   "source": [
    "En este caso es un 0, es decir `neg`."
   ]
  },
  {
   "cell_type": "markdown",
   "metadata": {},
   "source": [
    "## Separando en conjuntos de entrenamiento y de testeo"
   ]
  },
  {
   "cell_type": "markdown",
   "metadata": {},
   "source": [
    "Antes de comenzar con el entrenamiento de los modelos probando distintos algoritmos para encontrar los mejores modelos, vamos a separar el conjunto de reviews en training y testing. "
   ]
  },
  {
   "cell_type": "code",
   "execution_count": 6,
   "metadata": {},
   "outputs": [],
   "source": [
    "from sklearn.model_selection import train_test_split\n",
    "X_train, X_test, y_train, y_test = train_test_split(\n",
    "    movie_reviews.data, movie_reviews.target, test_size = 0.20, stratify=movie_reviews.target, random_state = 12)"
   ]
  },
  {
   "cell_type": "markdown",
   "metadata": {},
   "source": [
    "## Preprocesamiento"
   ]
  },
  {
   "cell_type": "markdown",
   "metadata": {},
   "source": [
    "Para trabajar con texto tenemos que realizar una serie de pasos antes de poder entrenar un modelo. Es decir, buscar la forma de convertir el texto a una representación numérica que pueda ser interpretable por los algoritmos de clasificación. \n",
    "Para ello vamos a realizar una serie de pasos.\n",
    "- Tokenizar el texto\n",
    "- Convertir a vectores de términos/documentos\n",
    "- Aplicar tfidf\n"
   ]
  },
  {
   "cell_type": "markdown",
   "metadata": {},
   "source": [
    "Es importante destacar que el `fit` debe hacerse sobre el conjunto de `train` y no sobre el total, ya que `tfidf` tiene en cuenta la frecuencia de aparición de las palabras respecto al total del conjunto. Una vez que usamos el `fit` con el conjunto de entrenamiento podemos aplicar la transformación al conjunto de `test`. "
   ]
  },
  {
   "cell_type": "markdown",
   "metadata": {},
   "source": [
    "**1) Vectorizá** los textos para obtener una matriz de términos/documentos utilizando td-idf. "
   ]
  },
  {
   "cell_type": "code",
   "execution_count": 7,
   "metadata": {},
   "outputs": [
    {
     "name": "stderr",
     "output_type": "stream",
     "text": [
      "[nltk_data] Downloading package punkt to\n",
      "[nltk_data]     /Users/iscoalderete/nltk_data...\n",
      "[nltk_data]   Package punkt is already up-to-date!\n",
      "[nltk_data] Downloading package stopwords to\n",
      "[nltk_data]     /Users/iscoalderete/nltk_data...\n",
      "[nltk_data]   Package stopwords is already up-to-date!\n"
     ]
    }
   ],
   "source": [
    "# Realizá los pasos necesarios para vectorizar los conjuntos de entrenamiento y testeo en este celda\n",
    "\n",
    "import numpy as np\n",
    "import pandas as pd\n",
    "\n",
    "import nltk\n",
    "nltk.download('punkt')\n",
    "nltk.download('stopwords')\n",
    "\n",
    "from sklearn.feature_extraction.text import TfidfVectorizer\n",
    "from sklearn.feature_extraction.text import CountVectorizer"
   ]
  },
  {
   "cell_type": "code",
   "execution_count": 8,
   "metadata": {},
   "outputs": [],
   "source": [
    "X = X_train, X_test"
   ]
  },
  {
   "cell_type": "code",
   "execution_count": 9,
   "metadata": {},
   "outputs": [],
   "source": [
    "X = ' '.join([str(elem) for elem in X]) "
   ]
  },
  {
   "cell_type": "code",
   "execution_count": 10,
   "metadata": {},
   "outputs": [
    {
     "data": {
      "text/plain": [
       "['[',\n",
       " '``',\n",
       " 'in',\n",
       " 'arguably',\n",
       " 'the',\n",
       " 'most',\n",
       " 'anticipated',\n",
       " 'movie',\n",
       " 'this',\n",
       " 'century',\n",
       " ',',\n",
       " 'george',\n",
       " 'lucas',\n",
       " 'has',\n",
       " 'achieved',\n",
       " 'a',\n",
       " 'very',\n",
       " 'mixed',\n",
       " 'reaction',\n",
       " 'to',\n",
       " 'a',\n",
       " 'sure',\n",
       " 'blockbuster',\n",
       " '.',\n",
       " '\\\\ndespite',\n",
       " 'the',\n",
       " 'fact',\n",
       " 'the',\n",
       " 'script',\n",
       " 'and',\n",
       " 'plot',\n",
       " 'is',\n",
       " 'a',\n",
       " 'bit',\n",
       " 'of',\n",
       " 'a',\n",
       " 'let',\n",
       " 'down',\n",
       " ',',\n",
       " 'the',\n",
       " 'entire',\n",
       " 'movie',\n",
       " 'on',\n",
       " 'the',\n",
       " 'whole',\n",
       " 'can',\n",
       " 'be',\n",
       " 'considered',\n",
       " 'a',\n",
       " 'milestone',\n",
       " 'in',\n",
       " 'technical',\n",
       " 'excellence',\n",
       " ',',\n",
       " 'in',\n",
       " 'the',\n",
       " 'sound',\n",
       " 'and',\n",
       " 'special',\n",
       " 'effects',\n",
       " 'department',\n",
       " '.',\n",
       " '\\\\nin',\n",
       " 'terms',\n",
       " 'of',\n",
       " 'characters',\n",
       " ',',\n",
       " 'by',\n",
       " 'far',\n",
       " 'the',\n",
       " 'most',\n",
       " 'outstanding',\n",
       " 'and',\n",
       " 'interesting',\n",
       " 'is',\n",
       " 'queen',\n",
       " 'amidala',\n",
       " '(',\n",
       " 'natalie',\n",
       " 'portman',\n",
       " ')',\n",
       " ',',\n",
       " 'whose',\n",
       " 'mature',\n",
       " 'performance',\n",
       " 'far',\n",
       " 'exceeds',\n",
       " 'her',\n",
       " 'tender',\n",
       " '14',\n",
       " 'years',\n",
       " 'of',\n",
       " 'age',\n",
       " '.',\n",
       " '\\\\nshe',\n",
       " 'is',\n",
       " 'one',\n",
       " '?',\n",
       " 'hot',\n",
       " \"'\",\n",
       " 'babe',\n",
       " 'who',\n",
       " 'defines',\n",
       " 'true',\n",
       " '?',\n",
       " 'woman',\n",
       " 'leadership',\n",
       " \"'\",\n",
       " '.',\n",
       " '\\\\nshe',\n",
       " 'not',\n",
       " 'only',\n",
       " 'has',\n",
       " 'a',\n",
       " 'presence',\n",
       " ',',\n",
       " 'but',\n",
       " 'knows',\n",
       " 'how',\n",
       " 'to',\n",
       " 'take',\n",
       " 'command',\n",
       " 'of',\n",
       " 'the',\n",
       " 'situation',\n",
       " 'and',\n",
       " 'save',\n",
       " 'her',\n",
       " 'planet',\n",
       " 'from',\n",
       " 'ruination',\n",
       " '.',\n",
       " '\\\\nno',\n",
       " 'thanks',\n",
       " 'to',\n",
       " 'the',\n",
       " 'jedi',\n",
       " 'knights',\n",
       " 'who',\n",
       " 'although',\n",
       " 'led',\n",
       " 'by',\n",
       " 'the',\n",
       " 'force',\n",
       " ',',\n",
       " 'lack',\n",
       " 'leadership',\n",
       " 'qualities',\n",
       " 'in',\n",
       " 'terms',\n",
       " 'of',\n",
       " 'thinking',\n",
       " 'up',\n",
       " 'a',\n",
       " 'plan',\n",
       " 'to',\n",
       " 'do',\n",
       " 'anything',\n",
       " '.',\n",
       " '\\\\nthe',\n",
       " 'young',\n",
       " 'obi-wan',\n",
       " 'kenobi',\n",
       " '(',\n",
       " 'ewan',\n",
       " 'mcgregor',\n",
       " ')',\n",
       " 'who',\n",
       " 'has',\n",
       " 'a',\n",
       " 'bad',\n",
       " 'hair',\n",
       " 'day',\n",
       " 'in',\n",
       " 'every',\n",
       " 'scene',\n",
       " ',',\n",
       " 'gets',\n",
       " 'to',\n",
       " 'kill',\n",
       " 'a',\n",
       " 'bad',\n",
       " 'guy',\n",
       " 'in',\n",
       " 'the',\n",
       " 'end',\n",
       " ',',\n",
       " 'but',\n",
       " 'lacks',\n",
       " 'a',\n",
       " 'love',\n",
       " 'interest',\n",
       " 'to',\n",
       " 'make',\n",
       " 'him',\n",
       " 'a',\n",
       " 'desirable',\n",
       " 'sort',\n",
       " 'of',\n",
       " 'hero',\n",
       " '.',\n",
       " '\\\\nin',\n",
       " 'fact',\n",
       " 'all',\n",
       " 'the',\n",
       " 'jedi',\n",
       " 'knight',\n",
       " 'are',\n",
       " 'a',\n",
       " 'bit',\n",
       " 'asexual',\n",
       " '-',\n",
       " 'there',\n",
       " 'must',\n",
       " 'be',\n",
       " 'something',\n",
       " 'about',\n",
       " 'the',\n",
       " 'force',\n",
       " 'which',\n",
       " 'makes',\n",
       " 'them',\n",
       " 'all',\n",
       " 'hermits',\n",
       " 'and',\n",
       " 'loners',\n",
       " '.',\n",
       " '\\\\ni',\n",
       " 'mean',\n",
       " 'it',\n",
       " 'would',\n",
       " 'be',\n",
       " 'interesting',\n",
       " 'to',\n",
       " 'see',\n",
       " 'yoda',\n",
       " \"'s\",\n",
       " 'girlfriend',\n",
       " 'for',\n",
       " 'a',\n",
       " 'change',\n",
       " ',',\n",
       " 'if',\n",
       " 'he',\n",
       " 'has',\n",
       " 'one',\n",
       " '.',\n",
       " '\\\\nnot',\n",
       " 'much',\n",
       " 'better',\n",
       " 'is',\n",
       " 'qui-gon',\n",
       " 'jinn',\n",
       " '(',\n",
       " 'liam',\n",
       " 'neeson',\n",
       " ')',\n",
       " 'who',\n",
       " 'mostly',\n",
       " 'broods',\n",
       " ',',\n",
       " 'and',\n",
       " 'has',\n",
       " 'a',\n",
       " 'better',\n",
       " 'hair',\n",
       " 'do',\n",
       " 'than',\n",
       " 'obi-wan',\n",
       " ',',\n",
       " 'but',\n",
       " 'only',\n",
       " 'to',\n",
       " 'find',\n",
       " 'the',\n",
       " 'young',\n",
       " 'anakin',\n",
       " 'skywalker',\n",
       " 'and',\n",
       " 'make',\n",
       " 'the',\n",
       " 'biggest',\n",
       " 'mistake',\n",
       " 'of',\n",
       " 'his',\n",
       " 'life',\n",
       " '.',\n",
       " '\\\\nalso',\n",
       " 'fascinating',\n",
       " 'is',\n",
       " 'george',\n",
       " 'lucas',\n",
       " '?',\n",
       " 'metoclorian',\n",
       " \"'\",\n",
       " 'theory',\n",
       " ',',\n",
       " 'which',\n",
       " 'claims',\n",
       " 'that',\n",
       " 'micro-organisms',\n",
       " 'live',\n",
       " 'within',\n",
       " 'our',\n",
       " 'cells',\n",
       " 'and',\n",
       " 'tie',\n",
       " 'us',\n",
       " 'to',\n",
       " 'the',\n",
       " 'fabric',\n",
       " 'of',\n",
       " 'the',\n",
       " 'universe',\n",
       " '.',\n",
       " '\\\\nand',\n",
       " 'it',\n",
       " 'is',\n",
       " 'the',\n",
       " 'high',\n",
       " 'concentrations',\n",
       " 'of',\n",
       " 'these',\n",
       " 'organisms',\n",
       " 'in',\n",
       " 'an',\n",
       " 'individual',\n",
       " 'which',\n",
       " 'make',\n",
       " 'them',\n",
       " 'particularly',\n",
       " 'powerful',\n",
       " 'in',\n",
       " 'the',\n",
       " 'force',\n",
       " '.',\n",
       " '\\\\nmore',\n",
       " 'humerous',\n",
       " 'are',\n",
       " 'the',\n",
       " 'claims',\n",
       " 'to',\n",
       " 'the',\n",
       " 'immaculate',\n",
       " 'conception',\n",
       " 'of',\n",
       " 'darth',\n",
       " 'vader',\n",
       " ',',\n",
       " 'no',\n",
       " 'doubt',\n",
       " 'a',\n",
       " 'concept',\n",
       " 'stolen',\n",
       " 'from',\n",
       " 'the',\n",
       " 'christian',\n",
       " 'faith',\n",
       " ',',\n",
       " 'except',\n",
       " 'there',\n",
       " 'will',\n",
       " 'be',\n",
       " 'no',\n",
       " 'christmas',\n",
       " 'to',\n",
       " 'celebrate',\n",
       " 'the',\n",
       " 'birth',\n",
       " 'of',\n",
       " 'this',\n",
       " 'dark',\n",
       " 'emissary',\n",
       " 'of',\n",
       " 'the',\n",
       " 'force',\n",
       " '.',\n",
       " '\\\\noverall',\n",
       " 'an',\n",
       " 'experience',\n",
       " 'which',\n",
       " 'is',\n",
       " 'not',\n",
       " 'to',\n",
       " 'be',\n",
       " 'missed',\n",
       " 'because',\n",
       " 'of',\n",
       " 'the',\n",
       " 'very',\n",
       " 'fact',\n",
       " 'that',\n",
       " 'it',\n",
       " \"'s\",\n",
       " 'predecessor',\n",
       " 'almost',\n",
       " 'command',\n",
       " 'a',\n",
       " 'viewing',\n",
       " 'of',\n",
       " 'this',\n",
       " 'inferior',\n",
       " 'successor',\n",
       " '.',\n",
       " '\\\\nby',\n",
       " 'all',\n",
       " 'means',\n",
       " 'not',\n",
       " 'the',\n",
       " 'pinnacle',\n",
       " 'of',\n",
       " 'the',\n",
       " 'star',\n",
       " 'wars',\n",
       " 'phenomena',\n",
       " 'but',\n",
       " 'an',\n",
       " 'adequate',\n",
       " 'addition',\n",
       " 'to',\n",
       " 'the',\n",
       " 'clan',\n",
       " '.',\n",
       " '\\\\nwatch',\n",
       " 'out',\n",
       " 'for',\n",
       " 'the',\n",
       " 'next',\n",
       " 'one',\n",
       " ',',\n",
       " 'it',\n",
       " 'should',\n",
       " 'be',\n",
       " 'one',\n",
       " 'steamy',\n",
       " 'encounter',\n",
       " 'between',\n",
       " 'queen',\n",
       " 'amidala',\n",
       " 'and',\n",
       " 'anakin',\n",
       " 'skywalker',\n",
       " '-',\n",
       " 'who',\n",
       " 'i',\n",
       " 'believe',\n",
       " 'should',\n",
       " 'be',\n",
       " 'portrayed',\n",
       " 'by',\n",
       " '?',\n",
       " 'leonardo',\n",
       " 'di',\n",
       " 'caprio',\n",
       " '.',\n",
       " '\\\\n',\n",
       " \"''\",\n",
       " ',',\n",
       " \"'\",\n",
       " '``',\n",
       " 'when',\n",
       " 'will',\n",
       " 'the',\n",
       " 'devil',\n",
       " 'take',\n",
       " 'me',\n",
       " '?',\n",
       " '``',\n",
       " 'he',\n",
       " 'asks',\n",
       " 'rhetorically',\n",
       " 'in',\n",
       " 'lulling',\n",
       " 'voice',\n",
       " 'over',\n",
       " '.',\n",
       " '\\\\nthe',\n",
       " 'spoiled',\n",
       " 'title',\n",
       " 'character',\n",
       " 'of',\n",
       " '_onegin_',\n",
       " '(',\n",
       " 'pronounced',\n",
       " 'oh-negg-in',\n",
       " ')',\n",
       " 'is',\n",
       " 'waiting',\n",
       " 'on',\n",
       " 'death',\n",
       " 'to',\n",
       " 'relieve',\n",
       " 'him',\n",
       " 'after',\n",
       " 'a',\n",
       " 'lifetime',\n",
       " 'of',\n",
       " 'rapacious',\n",
       " 'behaviour',\n",
       " '.',\n",
       " '\\\\nmartha',\n",
       " 'fiennes\\\\',\n",
       " \"'\",\n",
       " 'debut',\n",
       " 'feature',\n",
       " 'is',\n",
       " '(',\n",
       " 'quite',\n",
       " 'literally',\n",
       " ')',\n",
       " 'filmed',\n",
       " 'poetry',\n",
       " '(',\n",
       " 'it\\\\',\n",
       " \"'s\",\n",
       " 'based',\n",
       " 'on',\n",
       " 'an',\n",
       " 'epic',\n",
       " 'russian',\n",
       " 'poem',\n",
       " 'by',\n",
       " 'alexander',\n",
       " 'pushkin',\n",
       " ')',\n",
       " ',',\n",
       " 'a',\n",
       " 'profound',\n",
       " 'study',\n",
       " 'of',\n",
       " 'regret',\n",
       " ',',\n",
       " 'of',\n",
       " 'how',\n",
       " 'we',\n",
       " 'confuse',\n",
       " 'shame',\n",
       " 'with',\n",
       " 'guilt',\n",
       " '.',\n",
       " '\\\\nwhen',\n",
       " 'we',\n",
       " 'first',\n",
       " 'meet',\n",
       " 'eugene',\n",
       " 'onegin',\n",
       " '(',\n",
       " 'ralph',\n",
       " ',',\n",
       " 'acting',\n",
       " 'for',\n",
       " 'his',\n",
       " 'sister',\n",
       " ';',\n",
       " 'another',\n",
       " 'brother',\n",
       " ',',\n",
       " 'magnus',\n",
       " ',',\n",
       " 'composed',\n",
       " 'the',\n",
       " 'score',\n",
       " ')',\n",
       " ',',\n",
       " 'a',\n",
       " 'philandering',\n",
       " 'aristocrat',\n",
       " 'from',\n",
       " 'st',\n",
       " '.',\n",
       " 'petersburg',\n",
       " ',',\n",
       " 'he',\n",
       " 'has',\n",
       " 'just',\n",
       " 'inherited',\n",
       " 'his',\n",
       " 'uncle\\\\',\n",
       " \"'s\",\n",
       " 'estate',\n",
       " '.',\n",
       " '\\\\nwith',\n",
       " 'plans',\n",
       " 'to',\n",
       " 'sell',\n",
       " 'it',\n",
       " ',',\n",
       " 'onegin',\n",
       " 'pays',\n",
       " 'a',\n",
       " 'summer',\n",
       " 'visit',\n",
       " 'to',\n",
       " 'the',\n",
       " 'manor',\n",
       " ',',\n",
       " 'which',\n",
       " 'is',\n",
       " 'located',\n",
       " 'in',\n",
       " 'an',\n",
       " 'underpopulated',\n",
       " 'russian',\n",
       " 'countryside',\n",
       " ',',\n",
       " 'and',\n",
       " 'not',\n",
       " 'long',\n",
       " 'into',\n",
       " 'the',\n",
       " 'trip',\n",
       " 'he',\n",
       " 'meets',\n",
       " 'a',\n",
       " 'neighbouring',\n",
       " 'family',\n",
       " 'of',\n",
       " 'blue',\n",
       " 'bloods',\n",
       " '.',\n",
       " '\\\\nsmitten',\n",
       " 'with',\n",
       " 'olga',\n",
       " 'larina',\n",
       " '(',\n",
       " 'headey',\n",
       " ')',\n",
       " ',',\n",
       " 'he',\n",
       " 'befriends',\n",
       " 'olga\\\\',\n",
       " \"'s\",\n",
       " 'fianc',\n",
       " '?',\n",
       " ',',\n",
       " 'vladimir',\n",
       " 'lensky',\n",
       " '(',\n",
       " 'stephens',\n",
       " ')',\n",
       " ',',\n",
       " 'while',\n",
       " 'olga\\\\',\n",
       " \"'s\",\n",
       " 'sister',\n",
       " ',',\n",
       " 'tatyana',\n",
       " '(',\n",
       " 'tyler',\n",
       " ')',\n",
       " ',',\n",
       " 'romanticizing',\n",
       " 'his',\n",
       " 'flippant',\n",
       " 'attitude',\n",
       " '(',\n",
       " 'he\\\\',\n",
       " \"'s\",\n",
       " 'a',\n",
       " 'nineteenth',\n",
       " 'bad',\n",
       " 'boy',\n",
       " ')',\n",
       " ',',\n",
       " 'falls',\n",
       " 'for',\n",
       " 'onegin',\n",
       " '.',\n",
       " '\\\\nin',\n",
       " 'one',\n",
       " 'sweaty',\n",
       " ',',\n",
       " 'inky',\n",
       " 'torrent',\n",
       " 'of',\n",
       " 'passion',\n",
       " ',',\n",
       " 'tatyana',\n",
       " 'writes',\n",
       " 'him',\n",
       " 'a',\n",
       " 'love',\n",
       " 'letter',\n",
       " '.',\n",
       " '\\\\nhe',\n",
       " 'is',\n",
       " 'at',\n",
       " 'least',\n",
       " 'intrigued',\n",
       " 'by',\n",
       " 'the',\n",
       " 'note',\n",
       " 'but',\n",
       " 'rejects',\n",
       " 'her',\n",
       " 'affections',\n",
       " ',',\n",
       " 'it',\n",
       " 'is',\n",
       " 'implied',\n",
       " ',',\n",
       " 'because',\n",
       " 'he',\n",
       " 'can',\n",
       " '.',\n",
       " '\\\\nsoon',\n",
       " 'after',\n",
       " ',',\n",
       " 'tragedy',\n",
       " 'strikes',\n",
       " ',',\n",
       " 'and',\n",
       " 'onegin',\n",
       " 'makes',\n",
       " 'himself',\n",
       " 'scarce',\n",
       " '.',\n",
       " '\\\\nwhen',\n",
       " 'we',\n",
       " 'catch',\n",
       " 'up',\n",
       " 'with',\n",
       " 'him',\n",
       " ',',\n",
       " 'six',\n",
       " 'years',\n",
       " 'later',\n",
       " ',',\n",
       " 'he',\n",
       " 'has',\n",
       " 'just',\n",
       " 'returned',\n",
       " 'to',\n",
       " 'st',\n",
       " '.',\n",
       " 'petersburg',\n",
       " ',',\n",
       " 'where',\n",
       " 'at',\n",
       " 'a',\n",
       " 'grand',\n",
       " 'ball',\n",
       " 'he',\n",
       " 'discovers',\n",
       " 'that',\n",
       " 'an',\n",
       " 'old',\n",
       " 'friend',\n",
       " '(',\n",
       " 'donovan',\n",
       " ')',\n",
       " 'has',\n",
       " 'married',\n",
       " 'a',\n",
       " 'more',\n",
       " 'womanly',\n",
       " 'and',\n",
       " 'wordly',\n",
       " 'tatyana',\n",
       " '.',\n",
       " '\\\\nthis',\n",
       " 'time',\n",
       " ',',\n",
       " 'onegin',\n",
       " 'finds',\n",
       " 'her',\n",
       " 'irresistable',\n",
       " '.',\n",
       " '\\\\nwhat',\n",
       " 'is',\n",
       " 'most',\n",
       " 'amazing',\n",
       " 'about',\n",
       " 'ralph',\n",
       " 'fiennes\\\\',\n",
       " \"'\",\n",
       " 'performance',\n",
       " 'is',\n",
       " 'his',\n",
       " 'subtle',\n",
       " 'physical',\n",
       " 'transformation',\n",
       " 'from',\n",
       " 'dashing',\n",
       " 'snob',\n",
       " 'to',\n",
       " 'miserly',\n",
       " 'grouch',\n",
       " '.',\n",
       " '\\\\noverwhelmed',\n",
       " 'by',\n",
       " 'a',\n",
       " 'top',\n",
       " 'hat',\n",
       " ',',\n",
       " 'the',\n",
       " 'onegin',\n",
       " 'who',\n",
       " 'pines',\n",
       " 'for',\n",
       " 'tatyana',\n",
       " 'seems',\n",
       " 'smaller',\n",
       " 'in',\n",
       " 'stature',\n",
       " 'than',\n",
       " 'the',\n",
       " 'one',\n",
       " 'who',\n",
       " 'brushed',\n",
       " 'her',\n",
       " 'off',\n",
       " ',',\n",
       " 'an',\n",
       " 'ebeneezer',\n",
       " 'scrooge',\n",
       " 'trapped',\n",
       " 'in',\n",
       " 'christmas',\n",
       " 'past',\n",
       " '.',\n",
       " '\\\\nthe',\n",
       " 'actor',\n",
       " 'has',\n",
       " 'been',\n",
       " 'constricted',\n",
       " 'playing',\n",
       " 'heroes',\n",
       " 'for',\n",
       " 'too',\n",
       " 'long',\n",
       " 'now-there\\\\',\n",
       " \"'s\",\n",
       " 'room',\n",
       " 'to',\n",
       " 'breathe',\n",
       " 'in',\n",
       " 'a',\n",
       " 'role',\n",
       " 'that\\\\',\n",
       " \"'s\",\n",
       " 'made',\n",
       " 'up',\n",
       " 'of',\n",
       " 'shades',\n",
       " 'of',\n",
       " 'gray',\n",
       " 'like',\n",
       " '``',\n",
       " 'onegin',\n",
       " '``',\n",
       " '.',\n",
       " '\\\\npetula',\n",
       " 'clark',\n",
       " 'sang',\n",
       " 'of',\n",
       " 'a',\n",
       " 'universal',\n",
       " 'phenomenon',\n",
       " 'in',\n",
       " '``',\n",
       " 'parking',\n",
       " 'lot',\n",
       " '``',\n",
       " ':',\n",
       " '``',\n",
       " 'you',\n",
       " \"don\\\\'t\",\n",
       " 'know',\n",
       " 'what',\n",
       " 'you\\\\',\n",
       " \"'ve\",\n",
       " 'got',\n",
       " '?',\n",
       " 'til',\n",
       " 'it\\\\',\n",
       " \"'s\",\n",
       " 'gone',\n",
       " '.',\n",
       " '``',\n",
       " '\\\\nonegin\\\\',\n",
       " \"'s\",\n",
       " 'about-face',\n",
       " 'on',\n",
       " 'tatyana',\n",
       " 'speaks',\n",
       " 'for',\n",
       " 'those',\n",
       " 'of',\n",
       " 'us',\n",
       " '(',\n",
       " 'read',\n",
       " ':',\n",
       " 'most',\n",
       " 'of',\n",
       " 'us',\n",
       " ')',\n",
       " 'who',\n",
       " 'need',\n",
       " 'confirmation',\n",
       " 'that',\n",
       " 'someone',\n",
       " 'or',\n",
       " 'something',\n",
       " 'is',\n",
       " 'wanted',\n",
       " 'by',\n",
       " 'others',\n",
       " 'before',\n",
       " 'we',\n",
       " 'want',\n",
       " 'it',\n",
       " 'as',\n",
       " 'well',\n",
       " '.',\n",
       " '\\\\nwhat',\n",
       " 'the',\n",
       " 'character',\n",
       " 'feels',\n",
       " 'is',\n",
       " 'not',\n",
       " 'jealousy',\n",
       " 'but',\n",
       " 'remorse',\n",
       " ',',\n",
       " 'embarrassment',\n",
       " ',',\n",
       " 'even',\n",
       " ',',\n",
       " 'at',\n",
       " 'having',\n",
       " 'let',\n",
       " 'her',\n",
       " 'go',\n",
       " '.',\n",
       " '\\\\nout',\n",
       " 'of',\n",
       " 'identification',\n",
       " 'we',\n",
       " 'feel',\n",
       " 'empathy',\n",
       " 'for',\n",
       " 'onegin',\n",
       " ',',\n",
       " 'a',\n",
       " 'callous',\n",
       " 'bastard',\n",
       " '.',\n",
       " '\\\\ntatyana\\\\',\n",
       " \"'s\",\n",
       " 'emotions',\n",
       " 'echo',\n",
       " 'a',\n",
       " 'thousand',\n",
       " 'ditties',\n",
       " ',',\n",
       " 'but',\n",
       " 'that',\n",
       " 'makes',\n",
       " 'them',\n",
       " 'no',\n",
       " 'less',\n",
       " 'vital',\n",
       " '.',\n",
       " '\\\\nshe',\n",
       " 'changes',\n",
       " ',',\n",
       " 'too',\n",
       " ',',\n",
       " 'from',\n",
       " 'a',\n",
       " 'girl',\n",
       " 'in',\n",
       " 'crush',\n",
       " 'to',\n",
       " 'a',\n",
       " 'woman',\n",
       " 'with',\n",
       " 'divided',\n",
       " 'loyalties',\n",
       " '.',\n",
       " '\\\\ntyler',\n",
       " 'acquits',\n",
       " 'herself',\n",
       " 'surprisingly',\n",
       " 'well',\n",
       " 'among',\n",
       " 'her',\n",
       " 'uk',\n",
       " 'co-stars',\n",
       " ',',\n",
       " 'filling',\n",
       " 'in',\n",
       " 'sketchy',\n",
       " 'gaps',\n",
       " 'by',\n",
       " 'expressing',\n",
       " 'base',\n",
       " 'sentiments',\n",
       " 'in',\n",
       " ...]"
      ]
     },
     "execution_count": 10,
     "metadata": {},
     "output_type": "execute_result"
    }
   ],
   "source": [
    "X_tk = nltk.tokenize.word_tokenize(X)\n",
    "X_tk"
   ]
  },
  {
   "cell_type": "code",
   "execution_count": 11,
   "metadata": {},
   "outputs": [],
   "source": [
    "stopwords = nltk.corpus.stopwords.words('english')"
   ]
  },
  {
   "cell_type": "code",
   "execution_count": 12,
   "metadata": {},
   "outputs": [
    {
     "data": {
      "text/plain": [
       "TfidfVectorizer(analyzer='word', binary=False, decode_error='strict',\n",
       "                dtype=<class 'numpy.float64'>, encoding='utf-8',\n",
       "                input='content', lowercase=True, max_df=1.0, max_features=None,\n",
       "                min_df=1, ngram_range=(1, 1), norm='l2', preprocessor=None,\n",
       "                smooth_idf=True,\n",
       "                stop_words=['i', 'me', 'my', 'myself', 'we', 'our', 'ours',\n",
       "                            'ourselves', 'you', \"you're\", \"you've\", \"you'll\",\n",
       "                            \"you'd\", 'your', 'yours', 'yourself', 'yourselves',\n",
       "                            'he', 'him', 'his', 'himself', 'she', \"she's\",\n",
       "                            'her', 'hers', 'herself', 'it', \"it's\", 'its',\n",
       "                            'itself', ...],\n",
       "                strip_accents=None, sublinear_tf=False,\n",
       "                token_pattern='(?u)\\\\b\\\\w\\\\w+\\\\b', tokenizer=None, use_idf=True,\n",
       "                vocabulary=None)"
      ]
     },
     "execution_count": 12,
     "metadata": {},
     "output_type": "execute_result"
    }
   ],
   "source": [
    "vectorizer = TfidfVectorizer(stop_words = stopwords)\n",
    "vectorizer.fit(X_train)"
   ]
  },
  {
   "cell_type": "code",
   "execution_count": 13,
   "metadata": {},
   "outputs": [],
   "source": [
    "X_train_Tfidf = vectorizer.transform(X_train)\n",
    "X_test_Tfidf = vectorizer.transform(X_test)"
   ]
  },
  {
   "cell_type": "code",
   "execution_count": 14,
   "metadata": {},
   "outputs": [
    {
     "data": {
      "text/plain": [
       "(1600, 36199)"
      ]
     },
     "execution_count": 14,
     "metadata": {},
     "output_type": "execute_result"
    }
   ],
   "source": [
    "X_train_Tfidf.shape"
   ]
  },
  {
   "cell_type": "code",
   "execution_count": 15,
   "metadata": {},
   "outputs": [
    {
     "data": {
      "text/plain": [
       "(400, 36199)"
      ]
     },
     "execution_count": 15,
     "metadata": {},
     "output_type": "execute_result"
    }
   ],
   "source": [
    "X_test_Tfidf.shape"
   ]
  },
  {
   "cell_type": "code",
   "execution_count": 16,
   "metadata": {},
   "outputs": [],
   "source": [
    "y_train = y_train.reshape((1600,1))"
   ]
  },
  {
   "cell_type": "code",
   "execution_count": 17,
   "metadata": {},
   "outputs": [
    {
     "data": {
      "text/plain": [
       "(1600, 1)"
      ]
     },
     "execution_count": 17,
     "metadata": {},
     "output_type": "execute_result"
    }
   ],
   "source": [
    "y_train.shape"
   ]
  },
  {
   "cell_type": "code",
   "execution_count": 18,
   "metadata": {},
   "outputs": [
    {
     "data": {
      "text/plain": [
       "<400x36199 sparse matrix of type '<class 'numpy.float64'>'\n",
       "\twith 103519 stored elements in Compressed Sparse Row format>"
      ]
     },
     "execution_count": 18,
     "metadata": {},
     "output_type": "execute_result"
    }
   ],
   "source": [
    "X_test_Tfidf"
   ]
  },
  {
   "cell_type": "markdown",
   "metadata": {},
   "source": [
    "### Dimensión de la matriz de términos\n",
    "Una vez vectorizados los documentos veamos qué forma tiene la matriz resultante"
   ]
  },
  {
   "cell_type": "code",
   "execution_count": 19,
   "metadata": {},
   "outputs": [
    {
     "data": {
      "text/plain": [
       "(1600, 36199)"
      ]
     },
     "execution_count": 19,
     "metadata": {},
     "output_type": "execute_result"
    }
   ],
   "source": [
    "X_train_Tfidf.shape"
   ]
  },
  {
   "cell_type": "markdown",
   "metadata": {},
   "source": [
    "__¿ Por qué tiene estas dimensiones ?__"
   ]
  },
  {
   "cell_type": "markdown",
   "metadata": {},
   "source": [
    "Responder."
   ]
  },
  {
   "cell_type": "markdown",
   "metadata": {},
   "source": [
    "Porque el resultado es una matriz de términos por documentos. Por cada término existente en el dataset habrá una columna, ya que no se realizó ningún tipo de filtrado."
   ]
  },
  {
   "cell_type": "markdown",
   "metadata": {},
   "source": [
    "## Entrenando los modelos\n",
    "Una vez que tenemos una matriz con los vectores correspondientes a los documentos luego de aplicarse td-idf podemos comenzar con el proceso de entrenamiento de los modelos. Para eso, vamos a comparar diferentes algoritmos vistos como SVM, Random Forest, AdaBoost, Voting. Y todos los algoritmos complementarios que se quieran introducir. \n",
    "Para el entrenamiento de los modelos usaremos GridSearch recorriendo una lista de parámetros según corresponda a cada algoritmo. Además usaremos 5-fold CV y el scoring estará dado por el área bajo la curva roc."
   ]
  },
  {
   "cell_type": "markdown",
   "metadata": {},
   "source": [
    "### Support Vector Machines (SVM)"
   ]
  },
  {
   "cell_type": "markdown",
   "metadata": {},
   "source": [
    "__Ajustar un SVM (kernel lineal) al conjunto de datos de entrenamiento y devolver la matriz de confusión en testing.__\n",
    "\n",
    "Basándonos en el paper https://www.csie.ntu.edu.tw/~cjlin/papers/guide/guide.pdf, vamos a utilizar un kernel lineal. Al tener menos instancias que features este es el procedimiento recomendado. \n",
    "\n",
    "Nuestro espacio de parámetros para recorrer de forma exhaustiva utilizando GridSearch será el siguiente:\n",
    "\n",
    "* C = [0.001, 0.01, 0.1, 1, 10]\n",
    "* loss = ['hinge', 'squared_hinge'] \n",
    "\n",
    "**2) Entrenar** un modelo utilizando `Grid Search` y el clasificador `LinearSVC` con `5-fold` cross validation y que utilice como `scoring` el área bajo la curva roc."
   ]
  },
  {
   "cell_type": "code",
   "execution_count": 20,
   "metadata": {},
   "outputs": [],
   "source": [
    "# Realizá el entrenamiento en esta celda\n",
    "\n",
    "from sklearn.svm import SVC\n",
    "from sklearn.model_selection import GridSearchCV"
   ]
  },
  {
   "cell_type": "code",
   "execution_count": 21,
   "metadata": {},
   "outputs": [
    {
     "data": {
      "text/plain": [
       "GridSearchCV(cv=5, error_score='raise-deprecating',\n",
       "             estimator=SVC(C=1.0, cache_size=200, class_weight=None, coef0=0.0,\n",
       "                           decision_function_shape='ovr', degree=3,\n",
       "                           gamma='auto_deprecated', kernel='linear',\n",
       "                           max_iter=-1, probability=True, random_state=None,\n",
       "                           shrinking=True, tol=0.001, verbose=False),\n",
       "             iid='warn', n_jobs=None,\n",
       "             param_grid={'C': [0.001, 0.01, 0.1, 1, 10]},\n",
       "             pre_dispatch='2*n_jobs', refit=True, return_train_score=False,\n",
       "             scoring='roc_auc', verbose=0)"
      ]
     },
     "execution_count": 21,
     "metadata": {},
     "output_type": "execute_result"
    }
   ],
   "source": [
    "# En vez de LinearSVC vamos a usar SVC con kernel='linear' por que al momento de usar VotingClassifier nos tira un error ya que LinearSVC no tiene el metodo predict_proba\n",
    "# A 'loss' lo comentamos por que SVC no tiene tal parametro\n",
    "#'loss' : ['hinge', 'squared_hinge']\n",
    "params = {'C': [0.001, 0.01, 0.1, 1, 10],\n",
    "          }\n",
    "\n",
    "svm = SVC(kernel='linear', probability=True)\n",
    "grid_search = GridSearchCV(estimator=svm, param_grid=params, cv=5, scoring='roc_auc')\n",
    "grid_search.fit(X_train_Tfidf, y_train)"
   ]
  },
  {
   "cell_type": "markdown",
   "metadata": {},
   "source": [
    "### Veamos los resultados promediados por cada combinación de parámetros:"
   ]
  },
  {
   "cell_type": "code",
   "execution_count": 22,
   "metadata": {},
   "outputs": [],
   "source": [
    "# sorted(grid_search.grid_scores_, key=lambda x: x.mean_validation_score)\n",
    "\n",
    "# el comentario de mas arriba corresponde a metodos de la version vieja de scikit learn por lo tanto no se van a ejecutar"
   ]
  },
  {
   "cell_type": "code",
   "execution_count": 23,
   "metadata": {},
   "outputs": [
    {
     "data": {
      "text/html": [
       "<div>\n",
       "<style scoped>\n",
       "    .dataframe tbody tr th:only-of-type {\n",
       "        vertical-align: middle;\n",
       "    }\n",
       "\n",
       "    .dataframe tbody tr th {\n",
       "        vertical-align: top;\n",
       "    }\n",
       "\n",
       "    .dataframe thead th {\n",
       "        text-align: right;\n",
       "    }\n",
       "</style>\n",
       "<table border=\"1\" class=\"dataframe\">\n",
       "  <thead>\n",
       "    <tr style=\"text-align: right;\">\n",
       "      <th></th>\n",
       "      <th>mean_fit_time</th>\n",
       "      <th>std_fit_time</th>\n",
       "      <th>mean_score_time</th>\n",
       "      <th>std_score_time</th>\n",
       "      <th>param_C</th>\n",
       "      <th>params</th>\n",
       "      <th>split0_test_score</th>\n",
       "      <th>split1_test_score</th>\n",
       "      <th>split2_test_score</th>\n",
       "      <th>split3_test_score</th>\n",
       "      <th>split4_test_score</th>\n",
       "      <th>mean_test_score</th>\n",
       "      <th>std_test_score</th>\n",
       "      <th>rank_test_score</th>\n",
       "    </tr>\n",
       "  </thead>\n",
       "  <tbody>\n",
       "    <tr>\n",
       "      <th>0</th>\n",
       "      <td>17.041082</td>\n",
       "      <td>0.197006</td>\n",
       "      <td>0.849935</td>\n",
       "      <td>0.008399</td>\n",
       "      <td>0.001</td>\n",
       "      <td>{'C': 0.001}</td>\n",
       "      <td>0.888164</td>\n",
       "      <td>0.880742</td>\n",
       "      <td>0.881719</td>\n",
       "      <td>0.906094</td>\n",
       "      <td>0.860313</td>\n",
       "      <td>0.883406</td>\n",
       "      <td>0.014701</td>\n",
       "      <td>3</td>\n",
       "    </tr>\n",
       "    <tr>\n",
       "      <th>1</th>\n",
       "      <td>16.944942</td>\n",
       "      <td>0.117041</td>\n",
       "      <td>0.847066</td>\n",
       "      <td>0.008759</td>\n",
       "      <td>0.01</td>\n",
       "      <td>{'C': 0.01}</td>\n",
       "      <td>0.888164</td>\n",
       "      <td>0.880742</td>\n",
       "      <td>0.881719</td>\n",
       "      <td>0.906094</td>\n",
       "      <td>0.860313</td>\n",
       "      <td>0.883406</td>\n",
       "      <td>0.014701</td>\n",
       "      <td>3</td>\n",
       "    </tr>\n",
       "    <tr>\n",
       "      <th>2</th>\n",
       "      <td>16.951454</td>\n",
       "      <td>0.134921</td>\n",
       "      <td>0.850728</td>\n",
       "      <td>0.006470</td>\n",
       "      <td>0.1</td>\n",
       "      <td>{'C': 0.1}</td>\n",
       "      <td>0.888164</td>\n",
       "      <td>0.880742</td>\n",
       "      <td>0.881719</td>\n",
       "      <td>0.906094</td>\n",
       "      <td>0.860313</td>\n",
       "      <td>0.883406</td>\n",
       "      <td>0.014701</td>\n",
       "      <td>3</td>\n",
       "    </tr>\n",
       "    <tr>\n",
       "      <th>3</th>\n",
       "      <td>17.329935</td>\n",
       "      <td>0.445998</td>\n",
       "      <td>0.796694</td>\n",
       "      <td>0.033617</td>\n",
       "      <td>1</td>\n",
       "      <td>{'C': 1}</td>\n",
       "      <td>0.927500</td>\n",
       "      <td>0.916406</td>\n",
       "      <td>0.920469</td>\n",
       "      <td>0.932773</td>\n",
       "      <td>0.906211</td>\n",
       "      <td>0.920672</td>\n",
       "      <td>0.009170</td>\n",
       "      <td>1</td>\n",
       "    </tr>\n",
       "    <tr>\n",
       "      <th>4</th>\n",
       "      <td>16.920976</td>\n",
       "      <td>0.183989</td>\n",
       "      <td>0.764882</td>\n",
       "      <td>0.011503</td>\n",
       "      <td>10</td>\n",
       "      <td>{'C': 10}</td>\n",
       "      <td>0.925000</td>\n",
       "      <td>0.916133</td>\n",
       "      <td>0.923086</td>\n",
       "      <td>0.932148</td>\n",
       "      <td>0.904766</td>\n",
       "      <td>0.920227</td>\n",
       "      <td>0.009262</td>\n",
       "      <td>2</td>\n",
       "    </tr>\n",
       "  </tbody>\n",
       "</table>\n",
       "</div>"
      ],
      "text/plain": [
       "   mean_fit_time  std_fit_time  mean_score_time  std_score_time param_C  \\\n",
       "0      17.041082      0.197006         0.849935        0.008399   0.001   \n",
       "1      16.944942      0.117041         0.847066        0.008759    0.01   \n",
       "2      16.951454      0.134921         0.850728        0.006470     0.1   \n",
       "3      17.329935      0.445998         0.796694        0.033617       1   \n",
       "4      16.920976      0.183989         0.764882        0.011503      10   \n",
       "\n",
       "         params  split0_test_score  split1_test_score  split2_test_score  \\\n",
       "0  {'C': 0.001}           0.888164           0.880742           0.881719   \n",
       "1   {'C': 0.01}           0.888164           0.880742           0.881719   \n",
       "2    {'C': 0.1}           0.888164           0.880742           0.881719   \n",
       "3      {'C': 1}           0.927500           0.916406           0.920469   \n",
       "4     {'C': 10}           0.925000           0.916133           0.923086   \n",
       "\n",
       "   split3_test_score  split4_test_score  mean_test_score  std_test_score  \\\n",
       "0           0.906094           0.860313         0.883406        0.014701   \n",
       "1           0.906094           0.860313         0.883406        0.014701   \n",
       "2           0.906094           0.860313         0.883406        0.014701   \n",
       "3           0.932773           0.906211         0.920672        0.009170   \n",
       "4           0.932148           0.904766         0.920227        0.009262   \n",
       "\n",
       "   rank_test_score  \n",
       "0                3  \n",
       "1                3  \n",
       "2                3  \n",
       "3                1  \n",
       "4                2  "
      ]
     },
     "execution_count": 23,
     "metadata": {},
     "output_type": "execute_result"
    }
   ],
   "source": [
    "cv_results = pd.DataFrame(grid_search.cv_results_)\n",
    "cv_results"
   ]
  },
  {
   "cell_type": "code",
   "execution_count": 24,
   "metadata": {},
   "outputs": [
    {
     "data": {
      "text/plain": [
       "{'C': 1}"
      ]
     },
     "execution_count": 24,
     "metadata": {},
     "output_type": "execute_result"
    }
   ],
   "source": [
    "grid_search.best_params_"
   ]
  },
  {
   "cell_type": "code",
   "execution_count": 25,
   "metadata": {},
   "outputs": [
    {
     "data": {
      "text/plain": [
       "SVC(C=1, cache_size=200, class_weight=None, coef0=0.0,\n",
       "    decision_function_shape='ovr', degree=3, gamma='auto_deprecated',\n",
       "    kernel='linear', max_iter=-1, probability=True, random_state=None,\n",
       "    shrinking=True, tol=0.001, verbose=False)"
      ]
     },
     "execution_count": 25,
     "metadata": {},
     "output_type": "execute_result"
    }
   ],
   "source": [
    "optimised_svm = grid_search.best_estimator_\n",
    "optimised_svm"
   ]
  },
  {
   "cell_type": "markdown",
   "metadata": {},
   "source": [
    "## Matriz de confusión \n",
    "Una forma de ver fácilmente el resultado de un clasificador es utilizando una matriz de confusión. A continuación\n",
    "se presenta una función para visualizar una matriz de confusión utilizando `matplotlib`."
   ]
  },
  {
   "cell_type": "code",
   "execution_count": 26,
   "metadata": {},
   "outputs": [],
   "source": [
    "import numpy as np\n",
    "import itertools\n",
    "import matplotlib.pylab as plt\n",
    "def plot_confusion_matrix(cm, classes,\n",
    "                          normalize=True,\n",
    "                          title='Confusion matrix',\n",
    "                          cmap=plt.cm.Blues):\n",
    "    \"\"\"\n",
    "    This function prints and plots the confusion matrix.\n",
    "    Normalization can be applied by setting `normalize=True`.\n",
    "    \"\"\"\n",
    "    if normalize:\n",
    "        cm = cm.astype('float') / cm.sum(axis=1)[:, np.newaxis]\n",
    "        print(\"Normalized confusion matrix\")\n",
    "    else:\n",
    "        print('Confusion matrix, without normalization')\n",
    "\n",
    "    print(cm)\n",
    "\n",
    "    plt.imshow(cm, interpolation='nearest', cmap=cmap, origin='lower')\n",
    "    plt.title(title)\n",
    "    plt.colorbar()\n",
    "    tick_marks = np.arange(len(classes))\n",
    "    plt.xticks(tick_marks, classes, rotation=45)\n",
    "    plt.yticks(tick_marks, classes, rotation=45)\n",
    "\n",
    "    fmt = '.2f' if normalize else 'd'\n",
    "    thresh = cm.max() / 2.\n",
    "    for i, j in itertools.product(range(cm.shape[0]), range(cm.shape[1])):\n",
    "        plt.text(j, i, format(cm[i, j], fmt),\n",
    "                 horizontalalignment=\"center\",\n",
    "                 color=\"white\" if cm[i, j] > thresh else \"black\")\n",
    "\n",
    "    plt.tight_layout()\n",
    "    plt.ylabel('True label')\n",
    "    plt.xlabel('Predicted label')\n",
    "    plt.show()\n",
    "\n"
   ]
  },
  {
   "cell_type": "markdown",
   "metadata": {},
   "source": [
    "**3) Mostrá** los resultados de la predicción del clasificador `LinearSVC` sobre el conjunto de test con una matriz de confusión"
   ]
  },
  {
   "cell_type": "code",
   "execution_count": 27,
   "metadata": {},
   "outputs": [],
   "source": [
    "# Mostrá la matriz de confusión en esta celda\n",
    "\n",
    "from sklearn.metrics import confusion_matrix\n",
    "\n",
    "optimised_svm.fit(X_train_Tfidf, y_train)\n",
    "y_pred = optimised_svm.predict(X_test_Tfidf)"
   ]
  },
  {
   "cell_type": "code",
   "execution_count": 28,
   "metadata": {},
   "outputs": [
    {
     "data": {
      "text/plain": [
       "array([[159,  41],\n",
       "       [ 25, 175]])"
      ]
     },
     "execution_count": 28,
     "metadata": {},
     "output_type": "execute_result"
    }
   ],
   "source": [
    "cnf_matrix = confusion_matrix(y_test, y_pred)\n",
    "cnf_matrix"
   ]
  },
  {
   "cell_type": "code",
   "execution_count": 29,
   "metadata": {},
   "outputs": [
    {
     "name": "stdout",
     "output_type": "stream",
     "text": [
      "Confusion matrix, without normalization\n",
      "[[159  41]\n",
      " [ 25 175]]\n"
     ]
    },
    {
     "data": {
      "image/png": "[encoded data removed]",
      "text/plain": [
       "<Figure size 432x288 with 2 Axes>"
      ]
     },
     "metadata": {
      "needs_background": "light"
     },
     "output_type": "display_data"
    }
   ],
   "source": [
    "plot_confusion_matrix(cnf_matrix, movie_reviews.target_names)"
   ]
  },
  {
   "cell_type": "markdown",
   "metadata": {},
   "source": [
    "\n",
    "\n",
    "\n",
    "**4) Calcular** el área bajo la curva ROC (AUC) en el conjunto de testing para el modelo y mostrá el `classification_report`"
   ]
  },
  {
   "cell_type": "code",
   "execution_count": 30,
   "metadata": {},
   "outputs": [
    {
     "name": "stdout",
     "output_type": "stream",
     "text": [
      "Roc Auc: 0.8350000000000001\n",
      "\n",
      "Classification Report: \n",
      "\n",
      "               precision    recall  f1-score   support\n",
      "\n",
      "           0       0.86      0.80      0.83       200\n",
      "           1       0.81      0.88      0.84       200\n",
      "\n",
      "    accuracy                           0.83       400\n",
      "   macro avg       0.84      0.83      0.83       400\n",
      "weighted avg       0.84      0.83      0.83       400\n",
      "\n"
     ]
    }
   ],
   "source": [
    "# Mostrá el roc_auc score y el classification_report en esta celda\n",
    "\n",
    "from sklearn.metrics import roc_auc_score, classification_report\n",
    "\n",
    "print('Roc Auc:', roc_auc_score(y_test, y_pred))\n",
    "print('\\nClassification Report: \\n\\n', classification_report(y_test, y_pred))"
   ]
  },
  {
   "cell_type": "markdown",
   "metadata": {},
   "source": [
    "### Random Forests\n",
    "El siguiente modelo que vamos a entrenar es utilizando la técnica de Random Forest. "
   ]
  },
  {
   "cell_type": "markdown",
   "metadata": {},
   "source": [
    "__5) Usando grid search__ con cross validation (5 folds), encontrar el mejor modelo según el AUC dado el siguiente espacio de búsqueda:\n",
    "\n",
    "* n_estimators = [100, 500, 1000]\n",
    "* max_depth: [3, 7, None]\n",
    "* min_samples_split: [2, 3, 10]\n",
    "* bootstrap: [True, False]\n",
    "* criterion: [\"gini\", \"entropy\"]\n",
    "\n",
    "(puede tardar un poco la ejecución dado el tamaño del dataset)"
   ]
  },
  {
   "cell_type": "code",
   "execution_count": 31,
   "metadata": {},
   "outputs": [],
   "source": [
    "from sklearn.ensemble import RandomForestClassifier"
   ]
  },
  {
   "cell_type": "code",
   "execution_count": 32,
   "metadata": {},
   "outputs": [
    {
     "data": {
      "text/plain": [
       "GridSearchCV(cv=5, error_score='raise-deprecating',\n",
       "             estimator=RandomForestClassifier(bootstrap=True, class_weight=None,\n",
       "                                              criterion='gini', max_depth=None,\n",
       "                                              max_features='auto',\n",
       "                                              max_leaf_nodes=None,\n",
       "                                              min_impurity_decrease=0.0,\n",
       "                                              min_impurity_split=None,\n",
       "                                              min_samples_leaf=1,\n",
       "                                              min_samples_split=2,\n",
       "                                              min_weight_fraction_leaf=0.0,\n",
       "                                              n_estimators='warn', n_jobs=None,\n",
       "                                              oob_score=False,\n",
       "                                              random_state=None, verbose=0,\n",
       "                                              warm_start=False),\n",
       "             iid='warn', n_jobs=None,\n",
       "             param_grid={'bootstrap': [True, False],\n",
       "                         'criterion': ['gini', 'entropy'],\n",
       "                         'max_depth': [3, 7, None],\n",
       "                         'min_samples_split': [2, 3, 10],\n",
       "                         'n_estimators': [100, 500, 1000]},\n",
       "             pre_dispatch='2*n_jobs', refit=True, return_train_score=False,\n",
       "             scoring='roc_auc', verbose=0)"
      ]
     },
     "execution_count": 32,
     "metadata": {},
     "output_type": "execute_result"
    }
   ],
   "source": [
    "# Entrenar el modelo en esta celda\n",
    "\n",
    "params = {'n_estimators': [100, 500, 1000],\n",
    "          'max_depth': [3, 7, None],\n",
    "          'min_samples_split': [2, 3, 10],\n",
    "          'bootstrap': [True, False],\n",
    "          'criterion': [\"gini\", \"entropy\"]}\n",
    "\n",
    "clf = RandomForestClassifier()\n",
    "\n",
    "grid_search = GridSearchCV(estimator=clf, param_grid=params, cv=5, scoring='roc_auc')\n",
    "grid_search.fit(X_train_Tfidf, y_train)"
   ]
  },
  {
   "cell_type": "code",
   "execution_count": 33,
   "metadata": {},
   "outputs": [
    {
     "data": {
      "text/html": [
       "<div>\n",
       "<style scoped>\n",
       "    .dataframe tbody tr th:only-of-type {\n",
       "        vertical-align: middle;\n",
       "    }\n",
       "\n",
       "    .dataframe tbody tr th {\n",
       "        vertical-align: top;\n",
       "    }\n",
       "\n",
       "    .dataframe thead th {\n",
       "        text-align: right;\n",
       "    }\n",
       "</style>\n",
       "<table border=\"1\" class=\"dataframe\">\n",
       "  <thead>\n",
       "    <tr style=\"text-align: right;\">\n",
       "      <th></th>\n",
       "      <th>mean_fit_time</th>\n",
       "      <th>std_fit_time</th>\n",
       "      <th>mean_score_time</th>\n",
       "      <th>std_score_time</th>\n",
       "      <th>param_bootstrap</th>\n",
       "      <th>param_criterion</th>\n",
       "      <th>param_max_depth</th>\n",
       "      <th>param_min_samples_split</th>\n",
       "      <th>param_n_estimators</th>\n",
       "      <th>params</th>\n",
       "      <th>split0_test_score</th>\n",
       "      <th>split1_test_score</th>\n",
       "      <th>split2_test_score</th>\n",
       "      <th>split3_test_score</th>\n",
       "      <th>split4_test_score</th>\n",
       "      <th>mean_test_score</th>\n",
       "      <th>std_test_score</th>\n",
       "      <th>rank_test_score</th>\n",
       "    </tr>\n",
       "  </thead>\n",
       "  <tbody>\n",
       "    <tr>\n",
       "      <th>0</th>\n",
       "      <td>0.200370</td>\n",
       "      <td>0.005597</td>\n",
       "      <td>0.036200</td>\n",
       "      <td>0.000735</td>\n",
       "      <td>True</td>\n",
       "      <td>gini</td>\n",
       "      <td>3</td>\n",
       "      <td>2</td>\n",
       "      <td>100</td>\n",
       "      <td>{'bootstrap': True, 'criterion': 'gini', 'max_...</td>\n",
       "      <td>0.832656</td>\n",
       "      <td>0.848672</td>\n",
       "      <td>0.832344</td>\n",
       "      <td>0.837891</td>\n",
       "      <td>0.836758</td>\n",
       "      <td>0.837664</td>\n",
       "      <td>0.005923</td>\n",
       "      <td>101</td>\n",
       "    </tr>\n",
       "    <tr>\n",
       "      <th>1</th>\n",
       "      <td>0.944709</td>\n",
       "      <td>0.003946</td>\n",
       "      <td>0.175267</td>\n",
       "      <td>0.004570</td>\n",
       "      <td>True</td>\n",
       "      <td>gini</td>\n",
       "      <td>3</td>\n",
       "      <td>2</td>\n",
       "      <td>500</td>\n",
       "      <td>{'bootstrap': True, 'criterion': 'gini', 'max_...</td>\n",
       "      <td>0.882305</td>\n",
       "      <td>0.863984</td>\n",
       "      <td>0.850938</td>\n",
       "      <td>0.878906</td>\n",
       "      <td>0.872539</td>\n",
       "      <td>0.869734</td>\n",
       "      <td>0.011282</td>\n",
       "      <td>80</td>\n",
       "    </tr>\n",
       "    <tr>\n",
       "      <th>2</th>\n",
       "      <td>1.898018</td>\n",
       "      <td>0.009615</td>\n",
       "      <td>0.346621</td>\n",
       "      <td>0.006997</td>\n",
       "      <td>True</td>\n",
       "      <td>gini</td>\n",
       "      <td>3</td>\n",
       "      <td>2</td>\n",
       "      <td>1000</td>\n",
       "      <td>{'bootstrap': True, 'criterion': 'gini', 'max_...</td>\n",
       "      <td>0.891914</td>\n",
       "      <td>0.887031</td>\n",
       "      <td>0.842734</td>\n",
       "      <td>0.892813</td>\n",
       "      <td>0.883437</td>\n",
       "      <td>0.879586</td>\n",
       "      <td>0.018736</td>\n",
       "      <td>53</td>\n",
       "    </tr>\n",
       "    <tr>\n",
       "      <th>3</th>\n",
       "      <td>0.196089</td>\n",
       "      <td>0.002096</td>\n",
       "      <td>0.036579</td>\n",
       "      <td>0.001217</td>\n",
       "      <td>True</td>\n",
       "      <td>gini</td>\n",
       "      <td>3</td>\n",
       "      <td>3</td>\n",
       "      <td>100</td>\n",
       "      <td>{'bootstrap': True, 'criterion': 'gini', 'max_...</td>\n",
       "      <td>0.826953</td>\n",
       "      <td>0.851172</td>\n",
       "      <td>0.796875</td>\n",
       "      <td>0.831641</td>\n",
       "      <td>0.836250</td>\n",
       "      <td>0.828578</td>\n",
       "      <td>0.017813</td>\n",
       "      <td>105</td>\n",
       "    </tr>\n",
       "    <tr>\n",
       "      <th>4</th>\n",
       "      <td>0.949859</td>\n",
       "      <td>0.006626</td>\n",
       "      <td>0.179122</td>\n",
       "      <td>0.010399</td>\n",
       "      <td>True</td>\n",
       "      <td>gini</td>\n",
       "      <td>3</td>\n",
       "      <td>3</td>\n",
       "      <td>500</td>\n",
       "      <td>{'bootstrap': True, 'criterion': 'gini', 'max_...</td>\n",
       "      <td>0.884844</td>\n",
       "      <td>0.865234</td>\n",
       "      <td>0.848828</td>\n",
       "      <td>0.880273</td>\n",
       "      <td>0.866406</td>\n",
       "      <td>0.869117</td>\n",
       "      <td>0.012695</td>\n",
       "      <td>82</td>\n",
       "    </tr>\n",
       "    <tr>\n",
       "      <th>...</th>\n",
       "      <td>...</td>\n",
       "      <td>...</td>\n",
       "      <td>...</td>\n",
       "      <td>...</td>\n",
       "      <td>...</td>\n",
       "      <td>...</td>\n",
       "      <td>...</td>\n",
       "      <td>...</td>\n",
       "      <td>...</td>\n",
       "      <td>...</td>\n",
       "      <td>...</td>\n",
       "      <td>...</td>\n",
       "      <td>...</td>\n",
       "      <td>...</td>\n",
       "      <td>...</td>\n",
       "      <td>...</td>\n",
       "      <td>...</td>\n",
       "      <td>...</td>\n",
       "    </tr>\n",
       "    <tr>\n",
       "      <th>103</th>\n",
       "      <td>9.120553</td>\n",
       "      <td>0.066070</td>\n",
       "      <td>0.208317</td>\n",
       "      <td>0.004136</td>\n",
       "      <td>False</td>\n",
       "      <td>entropy</td>\n",
       "      <td>None</td>\n",
       "      <td>3</td>\n",
       "      <td>500</td>\n",
       "      <td>{'bootstrap': False, 'criterion': 'entropy', '...</td>\n",
       "      <td>0.905273</td>\n",
       "      <td>0.911465</td>\n",
       "      <td>0.876289</td>\n",
       "      <td>0.915508</td>\n",
       "      <td>0.901426</td>\n",
       "      <td>0.901992</td>\n",
       "      <td>0.013741</td>\n",
       "      <td>5</td>\n",
       "    </tr>\n",
       "    <tr>\n",
       "      <th>104</th>\n",
       "      <td>19.828221</td>\n",
       "      <td>0.928074</td>\n",
       "      <td>0.441868</td>\n",
       "      <td>0.035982</td>\n",
       "      <td>False</td>\n",
       "      <td>entropy</td>\n",
       "      <td>None</td>\n",
       "      <td>3</td>\n",
       "      <td>1000</td>\n",
       "      <td>{'bootstrap': False, 'criterion': 'entropy', '...</td>\n",
       "      <td>0.906738</td>\n",
       "      <td>0.911543</td>\n",
       "      <td>0.880176</td>\n",
       "      <td>0.920898</td>\n",
       "      <td>0.899883</td>\n",
       "      <td>0.903848</td>\n",
       "      <td>0.013670</td>\n",
       "      <td>2</td>\n",
       "    </tr>\n",
       "    <tr>\n",
       "      <th>105</th>\n",
       "      <td>1.760634</td>\n",
       "      <td>0.038896</td>\n",
       "      <td>0.042934</td>\n",
       "      <td>0.000850</td>\n",
       "      <td>False</td>\n",
       "      <td>entropy</td>\n",
       "      <td>None</td>\n",
       "      <td>10</td>\n",
       "      <td>100</td>\n",
       "      <td>{'bootstrap': False, 'criterion': 'entropy', '...</td>\n",
       "      <td>0.886445</td>\n",
       "      <td>0.897656</td>\n",
       "      <td>0.861680</td>\n",
       "      <td>0.887617</td>\n",
       "      <td>0.869805</td>\n",
       "      <td>0.880641</td>\n",
       "      <td>0.013029</td>\n",
       "      <td>52</td>\n",
       "    </tr>\n",
       "    <tr>\n",
       "      <th>106</th>\n",
       "      <td>9.316616</td>\n",
       "      <td>0.133410</td>\n",
       "      <td>0.226416</td>\n",
       "      <td>0.006755</td>\n",
       "      <td>False</td>\n",
       "      <td>entropy</td>\n",
       "      <td>None</td>\n",
       "      <td>10</td>\n",
       "      <td>500</td>\n",
       "      <td>{'bootstrap': False, 'criterion': 'entropy', '...</td>\n",
       "      <td>0.907500</td>\n",
       "      <td>0.908945</td>\n",
       "      <td>0.873125</td>\n",
       "      <td>0.918555</td>\n",
       "      <td>0.899023</td>\n",
       "      <td>0.901430</td>\n",
       "      <td>0.015450</td>\n",
       "      <td>6</td>\n",
       "    </tr>\n",
       "    <tr>\n",
       "      <th>107</th>\n",
       "      <td>18.482739</td>\n",
       "      <td>0.125349</td>\n",
       "      <td>0.453031</td>\n",
       "      <td>0.010824</td>\n",
       "      <td>False</td>\n",
       "      <td>entropy</td>\n",
       "      <td>None</td>\n",
       "      <td>10</td>\n",
       "      <td>1000</td>\n",
       "      <td>{'bootstrap': False, 'criterion': 'entropy', '...</td>\n",
       "      <td>0.909648</td>\n",
       "      <td>0.913984</td>\n",
       "      <td>0.876211</td>\n",
       "      <td>0.919180</td>\n",
       "      <td>0.899258</td>\n",
       "      <td>0.903656</td>\n",
       "      <td>0.015206</td>\n",
       "      <td>3</td>\n",
       "    </tr>\n",
       "  </tbody>\n",
       "</table>\n",
       "<p>108 rows × 18 columns</p>\n",
       "</div>"
      ],
      "text/plain": [
       "     mean_fit_time  std_fit_time  mean_score_time  std_score_time  \\\n",
       "0         0.200370      0.005597         0.036200        0.000735   \n",
       "1         0.944709      0.003946         0.175267        0.004570   \n",
       "2         1.898018      0.009615         0.346621        0.006997   \n",
       "3         0.196089      0.002096         0.036579        0.001217   \n",
       "4         0.949859      0.006626         0.179122        0.010399   \n",
       "..             ...           ...              ...             ...   \n",
       "103       9.120553      0.066070         0.208317        0.004136   \n",
       "104      19.828221      0.928074         0.441868        0.035982   \n",
       "105       1.760634      0.038896         0.042934        0.000850   \n",
       "106       9.316616      0.133410         0.226416        0.006755   \n",
       "107      18.482739      0.125349         0.453031        0.010824   \n",
       "\n",
       "    param_bootstrap param_criterion param_max_depth param_min_samples_split  \\\n",
       "0              True            gini               3                       2   \n",
       "1              True            gini               3                       2   \n",
       "2              True            gini               3                       2   \n",
       "3              True            gini               3                       3   \n",
       "4              True            gini               3                       3   \n",
       "..              ...             ...             ...                     ...   \n",
       "103           False         entropy            None                       3   \n",
       "104           False         entropy            None                       3   \n",
       "105           False         entropy            None                      10   \n",
       "106           False         entropy            None                      10   \n",
       "107           False         entropy            None                      10   \n",
       "\n",
       "    param_n_estimators                                             params  \\\n",
       "0                  100  {'bootstrap': True, 'criterion': 'gini', 'max_...   \n",
       "1                  500  {'bootstrap': True, 'criterion': 'gini', 'max_...   \n",
       "2                 1000  {'bootstrap': True, 'criterion': 'gini', 'max_...   \n",
       "3                  100  {'bootstrap': True, 'criterion': 'gini', 'max_...   \n",
       "4                  500  {'bootstrap': True, 'criterion': 'gini', 'max_...   \n",
       "..                 ...                                                ...   \n",
       "103                500  {'bootstrap': False, 'criterion': 'entropy', '...   \n",
       "104               1000  {'bootstrap': False, 'criterion': 'entropy', '...   \n",
       "105                100  {'bootstrap': False, 'criterion': 'entropy', '...   \n",
       "106                500  {'bootstrap': False, 'criterion': 'entropy', '...   \n",
       "107               1000  {'bootstrap': False, 'criterion': 'entropy', '...   \n",
       "\n",
       "     split0_test_score  split1_test_score  split2_test_score  \\\n",
       "0             0.832656           0.848672           0.832344   \n",
       "1             0.882305           0.863984           0.850938   \n",
       "2             0.891914           0.887031           0.842734   \n",
       "3             0.826953           0.851172           0.796875   \n",
       "4             0.884844           0.865234           0.848828   \n",
       "..                 ...                ...                ...   \n",
       "103           0.905273           0.911465           0.876289   \n",
       "104           0.906738           0.911543           0.880176   \n",
       "105           0.886445           0.897656           0.861680   \n",
       "106           0.907500           0.908945           0.873125   \n",
       "107           0.909648           0.913984           0.876211   \n",
       "\n",
       "     split3_test_score  split4_test_score  mean_test_score  std_test_score  \\\n",
       "0             0.837891           0.836758         0.837664        0.005923   \n",
       "1             0.878906           0.872539         0.869734        0.011282   \n",
       "2             0.892813           0.883437         0.879586        0.018736   \n",
       "3             0.831641           0.836250         0.828578        0.017813   \n",
       "4             0.880273           0.866406         0.869117        0.012695   \n",
       "..                 ...                ...              ...             ...   \n",
       "103           0.915508           0.901426         0.901992        0.013741   \n",
       "104           0.920898           0.899883         0.903848        0.013670   \n",
       "105           0.887617           0.869805         0.880641        0.013029   \n",
       "106           0.918555           0.899023         0.901430        0.015450   \n",
       "107           0.919180           0.899258         0.903656        0.015206   \n",
       "\n",
       "     rank_test_score  \n",
       "0                101  \n",
       "1                 80  \n",
       "2                 53  \n",
       "3                105  \n",
       "4                 82  \n",
       "..               ...  \n",
       "103                5  \n",
       "104                2  \n",
       "105               52  \n",
       "106                6  \n",
       "107                3  \n",
       "\n",
       "[108 rows x 18 columns]"
      ]
     },
     "execution_count": 33,
     "metadata": {},
     "output_type": "execute_result"
    }
   ],
   "source": [
    "cv_results = pd.DataFrame(grid_search.cv_results_)\n",
    "cv_results"
   ]
  },
  {
   "cell_type": "code",
   "execution_count": 34,
   "metadata": {},
   "outputs": [
    {
     "data": {
      "text/plain": [
       "{'bootstrap': False,\n",
       " 'criterion': 'entropy',\n",
       " 'max_depth': None,\n",
       " 'min_samples_split': 2,\n",
       " 'n_estimators': 1000}"
      ]
     },
     "execution_count": 34,
     "metadata": {},
     "output_type": "execute_result"
    }
   ],
   "source": [
    "grid_search.best_params_"
   ]
  },
  {
   "cell_type": "code",
   "execution_count": 35,
   "metadata": {},
   "outputs": [
    {
     "data": {
      "text/plain": [
       "RandomForestClassifier(bootstrap=False, class_weight=None, criterion='entropy',\n",
       "                       max_depth=None, max_features='auto', max_leaf_nodes=None,\n",
       "                       min_impurity_decrease=0.0, min_impurity_split=None,\n",
       "                       min_samples_leaf=1, min_samples_split=2,\n",
       "                       min_weight_fraction_leaf=0.0, n_estimators=1000,\n",
       "                       n_jobs=None, oob_score=False, random_state=None,\n",
       "                       verbose=0, warm_start=False)"
      ]
     },
     "execution_count": 35,
     "metadata": {},
     "output_type": "execute_result"
    }
   ],
   "source": [
    "optimised_rf = grid_search.best_estimator_\n",
    "optimised_rf"
   ]
  },
  {
   "cell_type": "markdown",
   "metadata": {},
   "source": [
    "**6) Repetir** los mismos pasos utilizados con el anterior modelo pero esta vez para `Random Forest`. Es decir, mostrar la matriz de confusión, scores, etc"
   ]
  },
  {
   "cell_type": "code",
   "execution_count": 36,
   "metadata": {},
   "outputs": [],
   "source": [
    "optimised_rf.fit(X_train_Tfidf, y_train)\n",
    "y_pred = optimised_rf.predict(X_test_Tfidf)"
   ]
  },
  {
   "cell_type": "code",
   "execution_count": 37,
   "metadata": {},
   "outputs": [
    {
     "data": {
      "text/plain": [
       "array([[178,  22],\n",
       "       [ 41, 159]])"
      ]
     },
     "execution_count": 37,
     "metadata": {},
     "output_type": "execute_result"
    }
   ],
   "source": [
    "cnf_matrix = confusion_matrix(y_test, y_pred)\n",
    "cnf_matrix"
   ]
  },
  {
   "cell_type": "code",
   "execution_count": 38,
   "metadata": {},
   "outputs": [
    {
     "name": "stdout",
     "output_type": "stream",
     "text": [
      "Confusion matrix, without normalization\n",
      "[[178  22]\n",
      " [ 41 159]]\n"
     ]
    },
    {
     "data": {
      "image/png": "[encoded data removed]",
      "text/plain": [
       "<Figure size 432x288 with 2 Axes>"
      ]
     },
     "metadata": {
      "needs_background": "light"
     },
     "output_type": "display_data"
    }
   ],
   "source": [
    "plot_confusion_matrix(cnf_matrix, movie_reviews.target_names)"
   ]
  },
  {
   "cell_type": "code",
   "execution_count": 39,
   "metadata": {},
   "outputs": [
    {
     "name": "stdout",
     "output_type": "stream",
     "text": [
      "Roc Auc: 0.8425\n",
      "\n",
      "Classification Report: \n",
      "\n",
      "               precision    recall  f1-score   support\n",
      "\n",
      "           0       0.81      0.89      0.85       200\n",
      "           1       0.88      0.80      0.83       200\n",
      "\n",
      "    accuracy                           0.84       400\n",
      "   macro avg       0.85      0.84      0.84       400\n",
      "weighted avg       0.85      0.84      0.84       400\n",
      "\n"
     ]
    }
   ],
   "source": [
    "print('Roc Auc:', roc_auc_score(y_test, y_pred))\n",
    "print('\\nClassification Report: \\n\\n', classification_report(y_test, y_pred))"
   ]
  },
  {
   "cell_type": "markdown",
   "metadata": {},
   "source": [
    "### Multilayer Perceptron"
   ]
  },
  {
   "cell_type": "markdown",
   "metadata": {},
   "source": [
    "**6) Repetir** los mismos pasos utilizados con el anterior modelo pero esta vez para `Multilayer Perceptron`. Es decir, mostrar la matriz de confusión, scores, etc\n",
    "\n",
    "El `param_grid` debe recorrer estos valores: `{'hidden_layer_sizes': [(10,),(5,5), (2,2)]}`"
   ]
  },
  {
   "cell_type": "code",
   "execution_count": 40,
   "metadata": {},
   "outputs": [],
   "source": [
    "from sklearn.neural_network import MLPClassifier"
   ]
  },
  {
   "cell_type": "code",
   "execution_count": 41,
   "metadata": {},
   "outputs": [
    {
     "data": {
      "text/plain": [
       "GridSearchCV(cv=5, error_score='raise-deprecating',\n",
       "             estimator=MLPClassifier(activation='relu', alpha=0.0001,\n",
       "                                     batch_size='auto', beta_1=0.9,\n",
       "                                     beta_2=0.999, early_stopping=False,\n",
       "                                     epsilon=1e-08, hidden_layer_sizes=(100,),\n",
       "                                     learning_rate='constant',\n",
       "                                     learning_rate_init=0.001, max_iter=200,\n",
       "                                     momentum=0.9, n_iter_no_change=10,\n",
       "                                     nesterovs_momentum=True, power_t=0.5,\n",
       "                                     random_state=42, shuffle=True,\n",
       "                                     solver='adam', tol=0.0001,\n",
       "                                     validation_fraction=0.1, verbose=False,\n",
       "                                     warm_start=False),\n",
       "             iid='warn', n_jobs=None,\n",
       "             param_grid={'hidden_layer_sizes': [(10,), (5, 5), (2, 2)]},\n",
       "             pre_dispatch='2*n_jobs', refit=True, return_train_score=False,\n",
       "             scoring='roc_auc', verbose=0)"
      ]
     },
     "execution_count": 41,
     "metadata": {},
     "output_type": "execute_result"
    }
   ],
   "source": [
    "params = {'hidden_layer_sizes':[(10,),(5,5), (2,2)]}\n",
    "\n",
    "mlp_clf = MLPClassifier(random_state=42)\n",
    "\n",
    "grid_search = GridSearchCV(estimator=mlp_clf, param_grid=params, cv=5, scoring='roc_auc')\n",
    "grid_search.fit(X_train_Tfidf, y_train)"
   ]
  },
  {
   "cell_type": "code",
   "execution_count": 42,
   "metadata": {},
   "outputs": [
    {
     "data": {
      "text/html": [
       "<div>\n",
       "<style scoped>\n",
       "    .dataframe tbody tr th:only-of-type {\n",
       "        vertical-align: middle;\n",
       "    }\n",
       "\n",
       "    .dataframe tbody tr th {\n",
       "        vertical-align: top;\n",
       "    }\n",
       "\n",
       "    .dataframe thead th {\n",
       "        text-align: right;\n",
       "    }\n",
       "</style>\n",
       "<table border=\"1\" class=\"dataframe\">\n",
       "  <thead>\n",
       "    <tr style=\"text-align: right;\">\n",
       "      <th></th>\n",
       "      <th>mean_fit_time</th>\n",
       "      <th>std_fit_time</th>\n",
       "      <th>mean_score_time</th>\n",
       "      <th>std_score_time</th>\n",
       "      <th>param_hidden_layer_sizes</th>\n",
       "      <th>params</th>\n",
       "      <th>split0_test_score</th>\n",
       "      <th>split1_test_score</th>\n",
       "      <th>split2_test_score</th>\n",
       "      <th>split3_test_score</th>\n",
       "      <th>split4_test_score</th>\n",
       "      <th>mean_test_score</th>\n",
       "      <th>std_test_score</th>\n",
       "      <th>rank_test_score</th>\n",
       "    </tr>\n",
       "  </thead>\n",
       "  <tbody>\n",
       "    <tr>\n",
       "      <th>0</th>\n",
       "      <td>6.944002</td>\n",
       "      <td>0.059145</td>\n",
       "      <td>0.002715</td>\n",
       "      <td>0.000643</td>\n",
       "      <td>(10,)</td>\n",
       "      <td>{'hidden_layer_sizes': (10,)}</td>\n",
       "      <td>0.921758</td>\n",
       "      <td>0.913164</td>\n",
       "      <td>0.903359</td>\n",
       "      <td>0.919570</td>\n",
       "      <td>0.888711</td>\n",
       "      <td>0.909313</td>\n",
       "      <td>0.012123</td>\n",
       "      <td>1</td>\n",
       "    </tr>\n",
       "    <tr>\n",
       "      <th>1</th>\n",
       "      <td>5.230603</td>\n",
       "      <td>0.166143</td>\n",
       "      <td>0.002114</td>\n",
       "      <td>0.000334</td>\n",
       "      <td>(5, 5)</td>\n",
       "      <td>{'hidden_layer_sizes': (5, 5)}</td>\n",
       "      <td>0.915703</td>\n",
       "      <td>0.899414</td>\n",
       "      <td>0.894102</td>\n",
       "      <td>0.911641</td>\n",
       "      <td>0.882070</td>\n",
       "      <td>0.900586</td>\n",
       "      <td>0.012141</td>\n",
       "      <td>2</td>\n",
       "    </tr>\n",
       "    <tr>\n",
       "      <th>2</th>\n",
       "      <td>1.811166</td>\n",
       "      <td>0.359459</td>\n",
       "      <td>0.001943</td>\n",
       "      <td>0.000287</td>\n",
       "      <td>(2, 2)</td>\n",
       "      <td>{'hidden_layer_sizes': (2, 2)}</td>\n",
       "      <td>0.500000</td>\n",
       "      <td>0.500000</td>\n",
       "      <td>0.500000</td>\n",
       "      <td>0.500000</td>\n",
       "      <td>0.500000</td>\n",
       "      <td>0.500000</td>\n",
       "      <td>0.000000</td>\n",
       "      <td>3</td>\n",
       "    </tr>\n",
       "  </tbody>\n",
       "</table>\n",
       "</div>"
      ],
      "text/plain": [
       "   mean_fit_time  std_fit_time  mean_score_time  std_score_time  \\\n",
       "0       6.944002      0.059145         0.002715        0.000643   \n",
       "1       5.230603      0.166143         0.002114        0.000334   \n",
       "2       1.811166      0.359459         0.001943        0.000287   \n",
       "\n",
       "  param_hidden_layer_sizes                          params  split0_test_score  \\\n",
       "0                    (10,)   {'hidden_layer_sizes': (10,)}           0.921758   \n",
       "1                   (5, 5)  {'hidden_layer_sizes': (5, 5)}           0.915703   \n",
       "2                   (2, 2)  {'hidden_layer_sizes': (2, 2)}           0.500000   \n",
       "\n",
       "   split1_test_score  split2_test_score  split3_test_score  split4_test_score  \\\n",
       "0           0.913164           0.903359           0.919570           0.888711   \n",
       "1           0.899414           0.894102           0.911641           0.882070   \n",
       "2           0.500000           0.500000           0.500000           0.500000   \n",
       "\n",
       "   mean_test_score  std_test_score  rank_test_score  \n",
       "0         0.909313        0.012123                1  \n",
       "1         0.900586        0.012141                2  \n",
       "2         0.500000        0.000000                3  "
      ]
     },
     "execution_count": 42,
     "metadata": {},
     "output_type": "execute_result"
    }
   ],
   "source": [
    "cv_results = pd.DataFrame(grid_search.cv_results_)\n",
    "cv_results"
   ]
  },
  {
   "cell_type": "code",
   "execution_count": 43,
   "metadata": {},
   "outputs": [
    {
     "data": {
      "text/plain": [
       "{'hidden_layer_sizes': (10,)}"
      ]
     },
     "execution_count": 43,
     "metadata": {},
     "output_type": "execute_result"
    }
   ],
   "source": [
    "grid_search.best_params_"
   ]
  },
  {
   "cell_type": "code",
   "execution_count": 44,
   "metadata": {},
   "outputs": [
    {
     "data": {
      "text/plain": [
       "MLPClassifier(activation='relu', alpha=0.0001, batch_size='auto', beta_1=0.9,\n",
       "              beta_2=0.999, early_stopping=False, epsilon=1e-08,\n",
       "              hidden_layer_sizes=(10,), learning_rate='constant',\n",
       "              learning_rate_init=0.001, max_iter=200, momentum=0.9,\n",
       "              n_iter_no_change=10, nesterovs_momentum=True, power_t=0.5,\n",
       "              random_state=42, shuffle=True, solver='adam', tol=0.0001,\n",
       "              validation_fraction=0.1, verbose=False, warm_start=False)"
      ]
     },
     "execution_count": 44,
     "metadata": {},
     "output_type": "execute_result"
    }
   ],
   "source": [
    "optimised_mlp = grid_search.best_estimator_\n",
    "optimised_mlp"
   ]
  },
  {
   "cell_type": "code",
   "execution_count": 45,
   "metadata": {},
   "outputs": [],
   "source": [
    "optimised_mlp.fit(X_train_Tfidf, y_train)\n",
    "y_pred = optimised_mlp.predict(X_test_Tfidf)"
   ]
  },
  {
   "cell_type": "code",
   "execution_count": 46,
   "metadata": {},
   "outputs": [
    {
     "data": {
      "text/plain": [
       "array([[162,  38],\n",
       "       [ 25, 175]])"
      ]
     },
     "execution_count": 46,
     "metadata": {},
     "output_type": "execute_result"
    }
   ],
   "source": [
    "cnf_matrix = confusion_matrix(y_test, y_pred)\n",
    "cnf_matrix"
   ]
  },
  {
   "cell_type": "code",
   "execution_count": 47,
   "metadata": {},
   "outputs": [
    {
     "name": "stdout",
     "output_type": "stream",
     "text": [
      "Confusion matrix, without normalization\n",
      "[[162  38]\n",
      " [ 25 175]]\n"
     ]
    },
    {
     "data": {
      "image/png": "[encoded data removed]",
      "text/plain": [
       "<Figure size 432x288 with 2 Axes>"
      ]
     },
     "metadata": {
      "needs_background": "light"
     },
     "output_type": "display_data"
    }
   ],
   "source": [
    "plot_confusion_matrix(cnf_matrix, movie_reviews.target_names)"
   ]
  },
  {
   "cell_type": "code",
   "execution_count": 48,
   "metadata": {},
   "outputs": [
    {
     "name": "stdout",
     "output_type": "stream",
     "text": [
      "Roc Auc: 0.8425\n",
      "\n",
      "Classification Report: \n",
      "\n",
      "               precision    recall  f1-score   support\n",
      "\n",
      "           0       0.87      0.81      0.84       200\n",
      "           1       0.82      0.88      0.85       200\n",
      "\n",
      "    accuracy                           0.84       400\n",
      "   macro avg       0.84      0.84      0.84       400\n",
      "weighted avg       0.84      0.84      0.84       400\n",
      "\n"
     ]
    }
   ],
   "source": [
    "print('Roc Auc:', roc_auc_score(y_test, y_pred))\n",
    "print('\\nClassification Report: \\n\\n', classification_report(y_test, y_pred))"
   ]
  },
  {
   "cell_type": "markdown",
   "metadata": {},
   "source": [
    "### AdaBoost"
   ]
  },
  {
   "cell_type": "markdown",
   "metadata": {},
   "source": [
    "**7) Repetir** los mismos pasos utilizados con el anterior modelo pero esta vez para `AdaBoost`. Es decir, mostrar la matriz de confusión, scores, etc\n",
    "\n",
    "El `param_grid` debe recorrer estos valores: `{'n_estimators': [50, 100, 500]}`\n"
   ]
  },
  {
   "cell_type": "code",
   "execution_count": 49,
   "metadata": {},
   "outputs": [],
   "source": [
    "from sklearn.ensemble import AdaBoostClassifier"
   ]
  },
  {
   "cell_type": "code",
   "execution_count": 50,
   "metadata": {},
   "outputs": [
    {
     "data": {
      "text/plain": [
       "GridSearchCV(cv=5, error_score='raise-deprecating',\n",
       "             estimator=AdaBoostClassifier(algorithm='SAMME.R',\n",
       "                                          base_estimator=None,\n",
       "                                          learning_rate=1.0, n_estimators=50,\n",
       "                                          random_state=42),\n",
       "             iid='warn', n_jobs=None,\n",
       "             param_grid={'n_estimators': [50, 100, 500]},\n",
       "             pre_dispatch='2*n_jobs', refit=True, return_train_score=False,\n",
       "             scoring='roc_auc', verbose=0)"
      ]
     },
     "execution_count": 50,
     "metadata": {},
     "output_type": "execute_result"
    }
   ],
   "source": [
    "params = {'n_estimators': [50, 100, 500]}\n",
    "\n",
    "ab_clf = AdaBoostClassifier(random_state=42)\n",
    "\n",
    "grid_search = GridSearchCV(estimator=ab_clf, param_grid=params, cv=5, scoring='roc_auc')\n",
    "grid_search.fit(X_train_Tfidf, y_train)"
   ]
  },
  {
   "cell_type": "code",
   "execution_count": 51,
   "metadata": {},
   "outputs": [
    {
     "data": {
      "text/html": [
       "<div>\n",
       "<style scoped>\n",
       "    .dataframe tbody tr th:only-of-type {\n",
       "        vertical-align: middle;\n",
       "    }\n",
       "\n",
       "    .dataframe tbody tr th {\n",
       "        vertical-align: top;\n",
       "    }\n",
       "\n",
       "    .dataframe thead th {\n",
       "        text-align: right;\n",
       "    }\n",
       "</style>\n",
       "<table border=\"1\" class=\"dataframe\">\n",
       "  <thead>\n",
       "    <tr style=\"text-align: right;\">\n",
       "      <th></th>\n",
       "      <th>mean_fit_time</th>\n",
       "      <th>std_fit_time</th>\n",
       "      <th>mean_score_time</th>\n",
       "      <th>std_score_time</th>\n",
       "      <th>param_n_estimators</th>\n",
       "      <th>params</th>\n",
       "      <th>split0_test_score</th>\n",
       "      <th>split1_test_score</th>\n",
       "      <th>split2_test_score</th>\n",
       "      <th>split3_test_score</th>\n",
       "      <th>split4_test_score</th>\n",
       "      <th>mean_test_score</th>\n",
       "      <th>std_test_score</th>\n",
       "      <th>rank_test_score</th>\n",
       "    </tr>\n",
       "  </thead>\n",
       "  <tbody>\n",
       "    <tr>\n",
       "      <th>0</th>\n",
       "      <td>3.768734</td>\n",
       "      <td>0.048747</td>\n",
       "      <td>0.033740</td>\n",
       "      <td>0.000983</td>\n",
       "      <td>50</td>\n",
       "      <td>{'n_estimators': 50}</td>\n",
       "      <td>0.797676</td>\n",
       "      <td>0.815527</td>\n",
       "      <td>0.823418</td>\n",
       "      <td>0.827734</td>\n",
       "      <td>0.812715</td>\n",
       "      <td>0.815414</td>\n",
       "      <td>0.010371</td>\n",
       "      <td>3</td>\n",
       "    </tr>\n",
       "    <tr>\n",
       "      <th>1</th>\n",
       "      <td>7.516365</td>\n",
       "      <td>0.080377</td>\n",
       "      <td>0.066100</td>\n",
       "      <td>0.002019</td>\n",
       "      <td>100</td>\n",
       "      <td>{'n_estimators': 100}</td>\n",
       "      <td>0.842266</td>\n",
       "      <td>0.843008</td>\n",
       "      <td>0.844141</td>\n",
       "      <td>0.838516</td>\n",
       "      <td>0.801445</td>\n",
       "      <td>0.833875</td>\n",
       "      <td>0.016324</td>\n",
       "      <td>2</td>\n",
       "    </tr>\n",
       "    <tr>\n",
       "      <th>2</th>\n",
       "      <td>37.937942</td>\n",
       "      <td>0.460154</td>\n",
       "      <td>0.358023</td>\n",
       "      <td>0.012440</td>\n",
       "      <td>500</td>\n",
       "      <td>{'n_estimators': 500}</td>\n",
       "      <td>0.885469</td>\n",
       "      <td>0.855234</td>\n",
       "      <td>0.870273</td>\n",
       "      <td>0.839766</td>\n",
       "      <td>0.878164</td>\n",
       "      <td>0.865781</td>\n",
       "      <td>0.016427</td>\n",
       "      <td>1</td>\n",
       "    </tr>\n",
       "  </tbody>\n",
       "</table>\n",
       "</div>"
      ],
      "text/plain": [
       "   mean_fit_time  std_fit_time  mean_score_time  std_score_time  \\\n",
       "0       3.768734      0.048747         0.033740        0.000983   \n",
       "1       7.516365      0.080377         0.066100        0.002019   \n",
       "2      37.937942      0.460154         0.358023        0.012440   \n",
       "\n",
       "  param_n_estimators                 params  split0_test_score  \\\n",
       "0                 50   {'n_estimators': 50}           0.797676   \n",
       "1                100  {'n_estimators': 100}           0.842266   \n",
       "2                500  {'n_estimators': 500}           0.885469   \n",
       "\n",
       "   split1_test_score  split2_test_score  split3_test_score  split4_test_score  \\\n",
       "0           0.815527           0.823418           0.827734           0.812715   \n",
       "1           0.843008           0.844141           0.838516           0.801445   \n",
       "2           0.855234           0.870273           0.839766           0.878164   \n",
       "\n",
       "   mean_test_score  std_test_score  rank_test_score  \n",
       "0         0.815414        0.010371                3  \n",
       "1         0.833875        0.016324                2  \n",
       "2         0.865781        0.016427                1  "
      ]
     },
     "execution_count": 51,
     "metadata": {},
     "output_type": "execute_result"
    }
   ],
   "source": [
    "cv_results = pd.DataFrame(grid_search.cv_results_)\n",
    "cv_results"
   ]
  },
  {
   "cell_type": "code",
   "execution_count": 52,
   "metadata": {},
   "outputs": [
    {
     "data": {
      "text/plain": [
       "{'n_estimators': 500}"
      ]
     },
     "execution_count": 52,
     "metadata": {},
     "output_type": "execute_result"
    }
   ],
   "source": [
    "grid_search.best_params_"
   ]
  },
  {
   "cell_type": "code",
   "execution_count": 53,
   "metadata": {},
   "outputs": [
    {
     "data": {
      "text/plain": [
       "AdaBoostClassifier(algorithm='SAMME.R', base_estimator=None, learning_rate=1.0,\n",
       "                   n_estimators=500, random_state=42)"
      ]
     },
     "execution_count": 53,
     "metadata": {},
     "output_type": "execute_result"
    }
   ],
   "source": [
    "optimised_ab = grid_search.best_estimator_\n",
    "optimised_ab"
   ]
  },
  {
   "cell_type": "code",
   "execution_count": 54,
   "metadata": {},
   "outputs": [],
   "source": [
    "optimised_ab.fit(X_train_Tfidf, y_train)\n",
    "y_pred = optimised_ab.predict(X_test_Tfidf)"
   ]
  },
  {
   "cell_type": "code",
   "execution_count": 55,
   "metadata": {},
   "outputs": [
    {
     "data": {
      "text/plain": [
       "array([[164,  36],\n",
       "       [ 30, 170]])"
      ]
     },
     "execution_count": 55,
     "metadata": {},
     "output_type": "execute_result"
    }
   ],
   "source": [
    "cnf_matrix = confusion_matrix(y_test, y_pred)\n",
    "cnf_matrix"
   ]
  },
  {
   "cell_type": "code",
   "execution_count": 56,
   "metadata": {},
   "outputs": [
    {
     "name": "stdout",
     "output_type": "stream",
     "text": [
      "Confusion matrix, without normalization\n",
      "[[164  36]\n",
      " [ 30 170]]\n"
     ]
    },
    {
     "data": {
      "image/png": "[encoded data removed]",
      "text/plain": [
       "<Figure size 432x288 with 2 Axes>"
      ]
     },
     "metadata": {
      "needs_background": "light"
     },
     "output_type": "display_data"
    }
   ],
   "source": [
    "plot_confusion_matrix(cnf_matrix, movie_reviews.target_names)"
   ]
  },
  {
   "cell_type": "code",
   "execution_count": 57,
   "metadata": {},
   "outputs": [
    {
     "name": "stdout",
     "output_type": "stream",
     "text": [
      "Roc Auc: 0.8350000000000001\n",
      "\n",
      "Classification Report: \n",
      "\n",
      "               precision    recall  f1-score   support\n",
      "\n",
      "           0       0.85      0.82      0.83       200\n",
      "           1       0.83      0.85      0.84       200\n",
      "\n",
      "    accuracy                           0.83       400\n",
      "   macro avg       0.84      0.83      0.83       400\n",
      "weighted avg       0.84      0.83      0.83       400\n",
      "\n"
     ]
    }
   ],
   "source": [
    "print('Roc Auc:', roc_auc_score(y_test, y_pred))\n",
    "print('\\nClassification Report: \\n\\n', classification_report(y_test, y_pred))"
   ]
  },
  {
   "cell_type": "markdown",
   "metadata": {},
   "source": [
    "__8) Armar un ensamble entre los cuatro modelos usando votación y medir el accuracy de cada uno de los modelos.__\n"
   ]
  },
  {
   "cell_type": "code",
   "execution_count": 58,
   "metadata": {},
   "outputs": [
    {
     "data": {
      "text/plain": [
       "VotingClassifier(estimators=[('support vector classifier',\n",
       "                              SVC(C=1, cache_size=200, class_weight=None,\n",
       "                                  coef0=0.0, decision_function_shape='ovr',\n",
       "                                  degree=3, gamma='auto_deprecated',\n",
       "                                  kernel='linear', max_iter=-1,\n",
       "                                  probability=True, random_state=None,\n",
       "                                  shrinking=True, tol=0.001, verbose=False)),\n",
       "                             ('random forest classifier',\n",
       "                              RandomForestClassifier(bootstrap=False,\n",
       "                                                     class_weigh...\n",
       "                                            n_iter_no_change=10,\n",
       "                                            nesterovs_momentum=True,\n",
       "                                            power_t=0.5, random_state=42,\n",
       "                                            shuffle=True, solver='adam',\n",
       "                                            tol=0.0001, validation_fraction=0.1,\n",
       "                                            verbose=False, warm_start=False)),\n",
       "                             ('adaboost classifier',\n",
       "                              AdaBoostClassifier(algorithm='SAMME.R',\n",
       "                                                 base_estimator=None,\n",
       "                                                 learning_rate=1.0,\n",
       "                                                 n_estimators=500,\n",
       "                                                 random_state=42))],\n",
       "                 flatten_transform=True, n_jobs=None, voting='soft',\n",
       "                 weights=None)"
      ]
     },
     "execution_count": 58,
     "metadata": {},
     "output_type": "execute_result"
    }
   ],
   "source": [
    "from sklearn.ensemble import VotingClassifier\n",
    "from sklearn.metrics import accuracy_score\n",
    "\n",
    "clf_list = [('support vector classifier', optimised_svm),\n",
    "            ('random forest classifier', optimised_rf), \n",
    "            ('multilayer perceptron classifier', optimised_mlp), \n",
    "            ('adaboost classifier', optimised_ab)]\n",
    "\n",
    "vot_clf = VotingClassifier(estimators=clf_list, voting='soft')\n",
    "\n",
    "vot_clf.fit(X_train_Tfidf, y_train)"
   ]
  },
  {
   "cell_type": "code",
   "execution_count": 59,
   "metadata": {},
   "outputs": [
    {
     "name": "stdout",
     "output_type": "stream",
     "text": [
      "Voting Classifier's accuracy: 0.85\n"
     ]
    }
   ],
   "source": [
    "y_pred = vot_clf.predict(X_test_Tfidf)\n",
    "print(f\"Voting Classifier's accuracy: {accuracy_score(y_pred, y_test):.2f}\")"
   ]
  },
  {
   "cell_type": "code",
   "execution_count": 60,
   "metadata": {},
   "outputs": [
    {
     "name": "stdout",
     "output_type": "stream",
     "text": [
      "support vector classifier's accuracy: 0.83\n",
      "random forest classifier's accuracy: 0.85\n",
      "multilayer perceptron classifier's accuracy: 0.84\n",
      "adaboost classifier's accuracy: 0.83\n"
     ]
    }
   ],
   "source": [
    "for model_tuple in clf_list:\n",
    "    model = model_tuple[1]\n",
    "    if 'random_state' in model.get_params().keys():\n",
    "        model.set_params(random_state=42)\n",
    "    model.fit(X_train_Tfidf, y_train)\n",
    "    y_pred = model.predict(X_test_Tfidf)\n",
    "    acc = accuracy_score(y_pred, y_test)\n",
    "    print(f\"{model_tuple[0]}'s accuracy: {acc:.2f}\")"
   ]
  },
  {
   "cell_type": "markdown",
   "metadata": {},
   "source": [
    "__9) Seleccioná el modelo__ que te haya dado el mejor score y utilizalo como tu modelo final. Reentrenalo con todos tus datos de entrenamiento.\n"
   ]
  },
  {
   "cell_type": "code",
   "execution_count": 92,
   "metadata": {
    "scrolled": true
   },
   "outputs": [
    {
     "data": {
      "text/plain": [
       "array([0, 1, 0, 1, 0, 1, 0, 1, 1, 1, 0, 0, 1, 0, 0, 0, 1, 1, 0, 0, 1, 0,\n",
       "       1, 0, 1, 0, 1, 0, 1, 1, 1, 1, 0, 0, 1, 0, 1, 0, 1, 1, 1, 1, 0, 1,\n",
       "       1, 0, 0, 0, 0, 0, 1, 1, 0, 1, 1, 1, 0, 1, 1, 1, 1, 1, 0, 0, 0, 0,\n",
       "       1, 0, 0, 1, 1, 1, 0, 0, 0, 1, 0, 1, 1, 0, 1, 1, 0, 1, 1, 1, 1, 0,\n",
       "       1, 1, 1, 1, 0, 1, 0, 1, 0, 0, 0, 1, 0, 1, 0, 0, 0, 1, 1, 0, 0, 0,\n",
       "       0, 1, 0, 1, 0, 0, 1, 0, 1, 1, 1, 0, 1, 0, 1, 1, 0, 1, 0, 0, 0, 0,\n",
       "       0, 1, 1, 1, 1, 1, 1, 1, 0, 0, 0, 1, 0, 0, 1, 0, 0, 0, 0, 0, 1, 0,\n",
       "       1, 0, 1, 1, 1, 1, 0, 0, 0, 1, 0, 0, 1, 1, 1, 1, 0, 1, 1, 0, 1, 0,\n",
       "       0, 0, 0, 1, 0, 1, 1, 0, 0, 0, 1, 0, 1, 1, 0, 0, 1, 1, 1, 1, 1, 0,\n",
       "       0, 1, 0, 1, 0, 0, 1, 1, 0, 0, 0, 1, 1, 0, 0, 1, 0, 1, 1, 0, 0, 0,\n",
       "       1, 1, 1, 0, 0, 0, 0, 1, 1, 1, 0, 0, 0, 0, 1, 1, 1, 0, 1, 1, 1, 0,\n",
       "       1, 1, 1, 0, 1, 0, 0, 0, 0, 0, 0, 0, 1, 0, 1, 1, 1, 1, 0, 0, 0, 1,\n",
       "       0, 0, 1, 0, 0, 1, 1, 0, 1, 0, 0, 1, 1, 1, 1, 0, 0, 1, 1, 1, 1, 1,\n",
       "       1, 1, 0, 1, 1, 1, 0, 1, 0, 0, 0, 1, 0, 1, 1, 0, 0, 0, 0, 1, 0, 0,\n",
       "       0, 0, 0, 1, 0, 0, 1, 0, 1, 1, 1, 0, 1, 0, 1, 0, 1, 1, 0, 0, 0, 0,\n",
       "       0, 0, 0, 1, 1, 0, 1, 0, 0, 1, 0, 0, 0, 1, 0, 0, 0, 1, 1, 0, 0, 1,\n",
       "       0, 1, 1, 0, 0, 1, 1, 0, 1, 0, 0, 1, 0, 1, 1, 1, 1, 1, 1, 1, 0, 1,\n",
       "       0, 0, 0, 0, 1, 1, 1, 1, 0, 0, 0, 0, 1, 0, 0, 0, 0, 1, 1, 1, 1, 0,\n",
       "       1, 1, 1, 1])"
      ]
     },
     "execution_count": 92,
     "metadata": {},
     "output_type": "execute_result"
    }
   ],
   "source": [
    "y_test"
   ]
  },
  {
   "cell_type": "code",
   "execution_count": 99,
   "metadata": {},
   "outputs": [],
   "source": [
    "X = vectorizer.fit_transform(movie_reviews.data)\n",
    "y = movie_reviews.target"
   ]
  },
  {
   "cell_type": "code",
   "execution_count": 100,
   "metadata": {},
   "outputs": [
    {
     "data": {
      "text/plain": [
       "VotingClassifier(estimators=[('support vector classifier',\n",
       "                              SVC(C=1, cache_size=200, class_weight=None,\n",
       "                                  coef0=0.0, decision_function_shape='ovr',\n",
       "                                  degree=3, gamma='auto_deprecated',\n",
       "                                  kernel='linear', max_iter=-1,\n",
       "                                  probability=True, random_state=42,\n",
       "                                  shrinking=True, tol=0.001, verbose=False)),\n",
       "                             ('random forest classifier',\n",
       "                              RandomForestClassifier(bootstrap=False,\n",
       "                                                     class_weight=...\n",
       "                                            n_iter_no_change=10,\n",
       "                                            nesterovs_momentum=True,\n",
       "                                            power_t=0.5, random_state=42,\n",
       "                                            shuffle=True, solver='adam',\n",
       "                                            tol=0.0001, validation_fraction=0.1,\n",
       "                                            verbose=False, warm_start=False)),\n",
       "                             ('adaboost classifier',\n",
       "                              AdaBoostClassifier(algorithm='SAMME.R',\n",
       "                                                 base_estimator=None,\n",
       "                                                 learning_rate=1.0,\n",
       "                                                 n_estimators=500,\n",
       "                                                 random_state=42))],\n",
       "                 flatten_transform=True, n_jobs=None, voting='soft',\n",
       "                 weights=None)"
      ]
     },
     "execution_count": 100,
     "metadata": {},
     "output_type": "execute_result"
    }
   ],
   "source": [
    "vot_clf.fit(X, y)"
   ]
  },
  {
   "cell_type": "code",
   "execution_count": 101,
   "metadata": {},
   "outputs": [
    {
     "data": {
      "text/plain": [
       "['sentiment.pkl']"
      ]
     },
     "execution_count": 101,
     "metadata": {},
     "output_type": "execute_result"
    }
   ],
   "source": [
    "# Guardamos el modelo\n",
    "from sklearn.externals import joblib\n",
    "joblib.dump(vot_clf, 'sentiment.pkl') "
   ]
  },
  {
   "cell_type": "code",
   "execution_count": 102,
   "metadata": {},
   "outputs": [
    {
     "data": {
      "text/plain": [
       "array([0, 1, 1, 1, 0, 1, 0, 1, 1, 1, 0, 0, 1, 0, 0, 0, 1, 0, 0, 0, 1, 0,\n",
       "       1, 0, 1, 0, 1, 1, 1, 1, 1, 0, 0, 0, 0, 0, 0, 0, 1, 1, 1, 1, 0, 0,\n",
       "       1, 0, 0, 0, 1, 1, 0, 1, 1, 1, 0, 1, 1, 1, 1, 1, 1, 1, 0, 0, 0, 0,\n",
       "       1, 0, 0, 1, 1, 1, 0, 0, 0, 1, 0, 0, 1, 1, 0, 0, 0, 1, 1, 0, 1, 1,\n",
       "       1, 1, 1, 1, 0, 1, 0, 1, 1, 0, 0, 1, 0, 1, 0, 0, 0, 1, 1, 0, 1, 0,\n",
       "       0, 1, 0, 1, 0, 0, 1, 1, 1, 1, 1, 1, 1, 0, 1, 1, 0, 1, 0, 0, 0, 0,\n",
       "       0, 1, 1, 1, 0, 1, 0, 1, 0, 1, 0, 1, 0, 0, 1, 0, 0, 0, 0, 0, 1, 1,\n",
       "       1, 0, 1, 0, 1, 1, 0, 0, 0, 1, 0, 0, 1, 1, 1, 0, 0, 1, 1, 0, 1, 0,\n",
       "       0, 0, 0, 1, 0, 1, 1, 0, 0, 0, 0, 0, 1, 1, 0, 1, 1, 1, 1, 0, 1, 0,\n",
       "       0, 1, 0, 1, 0, 0, 1, 1, 0, 0, 0, 1, 1, 0, 0, 0, 0, 1, 1, 0, 0, 0,\n",
       "       1, 1, 1, 1, 0, 0, 1, 1, 1, 1, 0, 0, 0, 1, 1, 1, 1, 1, 1, 1, 1, 0,\n",
       "       0, 1, 1, 1, 1, 0, 0, 0, 1, 0, 0, 1, 0, 0, 0, 1, 1, 1, 0, 0, 0, 1,\n",
       "       0, 0, 1, 0, 0, 0, 0, 0, 1, 0, 0, 0, 1, 1, 1, 0, 0, 1, 1, 1, 1, 1,\n",
       "       1, 1, 0, 1, 1, 1, 0, 1, 0, 1, 0, 1, 0, 1, 1, 1, 0, 0, 0, 1, 1, 1,\n",
       "       1, 0, 0, 1, 0, 0, 0, 0, 1, 1, 1, 0, 0, 0, 1, 0, 1, 1, 0, 0, 0, 0,\n",
       "       0, 0, 1, 0, 1, 1, 1, 0, 1, 1, 1, 0, 0, 0, 0, 0, 1, 1, 1, 1, 0, 1,\n",
       "       0, 1, 1, 0, 0, 1, 1, 0, 1, 0, 1, 1, 0, 1, 1, 1, 1, 1, 1, 1, 0, 0,\n",
       "       0, 0, 0, 0, 1, 1, 1, 1, 0, 1, 0, 0, 1, 1, 0, 0, 0, 1, 0, 1, 1, 0,\n",
       "       1, 1, 1, 1])"
      ]
     },
     "execution_count": 102,
     "metadata": {},
     "output_type": "execute_result"
    }
   ],
   "source": [
    "y_pred"
   ]
  },
  {
   "cell_type": "markdown",
   "metadata": {},
   "source": [
    "## Clasificación de reviews de Rocky 4."
   ]
  },
  {
   "cell_type": "markdown",
   "metadata": {},
   "source": [
    "A partir de [criticas de la película Rocky 4](https://www.rottentomatoes.com/m/rocky_iv/reviews/?type=user) veamos como las clasifica nuestro mejor modelo"
   ]
  },
  {
   "cell_type": "code",
   "execution_count": 103,
   "metadata": {},
   "outputs": [],
   "source": [
    "reviews_new = [\"Stallone creates credible villains worthy of his heroic character.\",\n",
    "               \"Another brilliant Rocky film, probably my favourite one out of the lot\",\n",
    "               \"Yeah, this movie sucks.\",\n",
    "               \"My favourite rocky film! So good so much heart. Slightly better than 2\",\n",
    "               \"What has this got to do with boxing. Also everyone looked like dolls. Also if you are a real true boxing fan (not casuals), you would understand that this stupidity is no description of boxing!!\",\n",
    "               \"The new film's narrative is stripped down to essentials, which gives it an emblematic quality.\",\n",
    "               \"Absurdly ridiculous, this just isn't a good movie at all\", \n",
    "               \"Very basic and predictable but still an okay movie. No special music to save this one.\", \n",
    "              \"Rocky 4 is an extremely ambitious movie that is definitely worth watching.\",\n",
    "              'Highly beautiful',\n",
    "               \"If it wasn't for the robots (WTF????), and the painfully overwritten lines of an absurdly dogmatic persuasion, then this would otherwise be nothing more than an interminable series of mildly rousing montages. There are some unintentionally funny bits though, and Dolph's Ivan showcases the best and worst of all Rocky's opponents.\",\n",
    "              \"While all aspects of realism is thrown out the window, ROCKY IV is an adrenaline rush of action and excitment, with an incredible soundtrack and arguably the best movie fight in history between Balboa and Drago\",\n",
    "              \"Just like the songs, exercise routines and repetitive clips, it seems redundant to add another installment in this already falling franchise when you clearly lack material. Rocky IV is petty, childish and seems overlong despite of its 91 minutes of run time for it merely has an idea of a TV drama episode which is stretched to a point of exhaustion. Its painful to watch Sylvester Stallone go through this enormous amount of training and hardly make a point out there. He fails on all the levels here; writer, director and actor, to deliver any loose end of the thread for the audience to hang on to. Rocky IV is predictable, loosely written and choreographed and executed unsupervised.\"]\n",
    "reviews_new_counts = vectorizer.transform(reviews_new)\n",
    "reviews_new_tfidf = vectorizer.transform(reviews_new)"
   ]
  },
  {
   "cell_type": "code",
   "execution_count": 104,
   "metadata": {},
   "outputs": [],
   "source": [
    "pred = vot_clf.predict(reviews_new_tfidf)"
   ]
  },
  {
   "cell_type": "code",
   "execution_count": 105,
   "metadata": {},
   "outputs": [
    {
     "name": "stdout",
     "output_type": "stream",
     "text": [
      "'Stallone creates credible villains worthy of his heroic character.' => neg \n",
      "\n",
      "'Another brilliant Rocky film, probably my favourite one out of the lot' => pos \n",
      "\n",
      "'Yeah, this movie sucks.' => neg \n",
      "\n",
      "'My favourite rocky film! So good so much heart. Slightly better than 2' => pos \n",
      "\n",
      "'What has this got to do with boxing. Also everyone looked like dolls. Also if you are a real true boxing fan (not casuals), you would understand that this stupidity is no description of boxing!!' => neg \n",
      "\n",
      "\"The new film's narrative is stripped down to essentials, which gives it an emblematic quality.\" => pos \n",
      "\n",
      "\"Absurdly ridiculous, this just isn't a good movie at all\" => neg \n",
      "\n",
      "'Very basic and predictable but still an okay movie. No special music to save this one.' => neg \n",
      "\n",
      "'Rocky 4 is an extremely ambitious movie that is definitely worth watching.' => pos \n",
      "\n",
      "'Highly beautiful' => pos \n",
      "\n",
      "\"If it wasn't for the robots (WTF????), and the painfully overwritten lines of an absurdly dogmatic persuasion, then this would otherwise be nothing more than an interminable series of mildly rousing montages. There are some unintentionally funny bits though, and Dolph's Ivan showcases the best and worst of all Rocky's opponents.\" => neg \n",
      "\n",
      "'While all aspects of realism is thrown out the window, ROCKY IV is an adrenaline rush of action and excitment, with an incredible soundtrack and arguably the best movie fight in history between Balboa and Drago' => pos \n",
      "\n",
      "'Just like the songs, exercise routines and repetitive clips, it seems redundant to add another installment in this already falling franchise when you clearly lack material. Rocky IV is petty, childish and seems overlong despite of its 91 minutes of run time for it merely has an idea of a TV drama episode which is stretched to a point of exhaustion. Its painful to watch Sylvester Stallone go through this enormous amount of training and hardly make a point out there. He fails on all the levels here; writer, director and actor, to deliver any loose end of the thread for the audience to hang on to. Rocky IV is predictable, loosely written and choreographed and executed unsupervised.' => neg \n",
      "\n"
     ]
    }
   ],
   "source": [
    "for review, category in zip(reviews_new, pred):\n",
    "    print('%r => %s \\n' % (review, movie_reviews.target_names[category]))"
   ]
  }
 ],
 "metadata": {
  "kernelspec": {
   "display_name": "Python 3",
   "language": "python",
   "name": "python3"
  },
  "language_info": {
   "codemirror_mode": {
    "name": "ipython",
    "version": 3
   },
   "file_extension": ".py",
   "mimetype": "text/x-python",
   "name": "python",
   "nbconvert_exporter": "python",
   "pygments_lexer": "ipython3",
   "version": "3.7.5"
  }
 },
 "nbformat": 4,
 "nbformat_minor": 2
}
